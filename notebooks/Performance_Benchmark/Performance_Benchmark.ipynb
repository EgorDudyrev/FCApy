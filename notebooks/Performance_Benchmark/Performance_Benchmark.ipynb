{
 "cells": [
  {
   "cell_type": "code",
   "execution_count": 1,
   "metadata": {},
   "outputs": [
    {
     "data": {
      "text/html": [
       "<style>.container { width:90% !important; }</style>"
      ],
      "text/plain": [
       "<IPython.core.display.HTML object>"
      ]
     },
     "metadata": {},
     "output_type": "display_data"
    }
   ],
   "source": [
    "from IPython.core.display import display, HTML\n",
    "display(HTML(\"<style>.container { width:90% !important; }</style>\"))"
   ]
  },
  {
   "cell_type": "markdown",
   "metadata": {},
   "source": [
    "# Intro\n",
    "\n",
    "There are a number of python packages to work with FCA. In this notebook we will compare their performances in the basic FCA task: constructing the concept lattice from a formal context.\n",
    "\n",
    "We consider three packages: FCApy, fcapsy and Concepts\n",
    "\n",
    "// More packages can be compared in the future"
   ]
  },
  {
   "cell_type": "markdown",
   "metadata": {},
   "source": [
    "# Install competitors libraries"
   ]
  },
  {
   "cell_type": "markdown",
   "metadata": {},
   "source": [
    "The current `FCApy` library (by Egor Dudyrev, HSE Moscow): https://github.com/EgorDudyrev/FCApy "
   ]
  },
  {
   "cell_type": "code",
   "execution_count": 2,
   "metadata": {},
   "outputs": [],
   "source": [
    "!pip -q install -U fcapy"
   ]
  },
  {
   "cell_type": "code",
   "execution_count": 3,
   "metadata": {},
   "outputs": [],
   "source": [
    "from fcapy import LIB_INSTALLED\n",
    "from fcapy.context import FormalContext, converters\n",
    "from fcapy.lattice import ConceptLattice\n",
    "from fcapy.visualizer import Visualizer"
   ]
  },
  {
   "cell_type": "markdown",
   "metadata": {},
   "source": [
    "`Concepts` package (by Sebastian Bank, University of Leipzig): https://github.com/xflr6/concepts"
   ]
  },
  {
   "cell_type": "code",
   "execution_count": 4,
   "metadata": {},
   "outputs": [],
   "source": [
    "!pip -q install -U concepts"
   ]
  },
  {
   "cell_type": "code",
   "execution_count": 5,
   "metadata": {},
   "outputs": [],
   "source": [
    "import concepts"
   ]
  },
  {
   "cell_type": "markdown",
   "metadata": {},
   "source": [
    "`fcapsy` package (by Tomáš Mikula, Palacký University): https://github.com/mikulatomas/fcapsy"
   ]
  },
  {
   "cell_type": "code",
   "execution_count": 6,
   "metadata": {},
   "outputs": [],
   "source": [
    "!pip -q install -U fcapsy"
   ]
  },
  {
   "cell_type": "code",
   "execution_count": 7,
   "metadata": {},
   "outputs": [],
   "source": [
    "import fcapsy"
   ]
  },
  {
   "cell_type": "markdown",
   "metadata": {},
   "source": [
    "# Load data"
   ]
  },
  {
   "cell_type": "markdown",
   "metadata": {},
   "source": [
    "First we load some classic FCA contexts (datasets)"
   ]
  },
  {
   "cell_type": "code",
   "execution_count": 8,
   "metadata": {},
   "outputs": [],
   "source": [
    "frames_classic = {}\n",
    "contexts_to_test = ['animal_movement', 'digits', 'gewaesser',\n",
    "                    'lattice', 'liveinwater', 'tealady']\n",
    "\n",
    "!rm -rf tmp\n",
    "!mkdir tmp\n",
    "\n",
    "for ctx_name in contexts_to_test:\n",
    "    fname = f'tmp/{ctx_name}.cxt'\n",
    "    !wget -O {fname} -q https://raw.githubusercontent.com/EgorDudyrev/FCApy/main/data/{ctx_name}.cxt\n",
    "    ctx = converters.read_cxt(fname)\n",
    "    df = ctx.to_pandas()\n",
    "    df.name = ctx_name\n",
    "    frames_classic[ctx_name] = df\n",
    "!rm -rf tmp"
   ]
  },
  {
   "cell_type": "markdown",
   "metadata": {},
   "source": [
    "Add Bob-Ross dataset which has more objects and attributes than the classic FCA datasets"
   ]
  },
  {
   "cell_type": "code",
   "execution_count": 9,
   "metadata": {},
   "outputs": [
    {
     "name": "stdout",
     "output_type": "stream",
     "text": [
      "(403, 67)\n"
     ]
    }
   ],
   "source": [
    "import pandas as pd\n",
    "ctx_name = 'bob_ross'\n",
    "fname = f\"{ctx_name}.csv\"\n",
    "!wget -O {fname} -q https://raw.githubusercontent.com/fivethirtyeight/data/master/bob-ross/elements-by-episode.csv \n",
    "df = pd.read_csv(fname)\n",
    "df['EPISODE_TITLE'] = df['EPISODE']+' '+df['TITLE']\n",
    "df = df.drop(['EPISODE','TITLE'],1).set_index('EPISODE_TITLE').astype(bool)\n",
    "df.name = ctx_name\n",
    "frames_classic[ctx_name] = df\n",
    "print(df.shape)\n",
    "!rm {fname}"
   ]
  },
  {
   "cell_type": "markdown",
   "metadata": {},
   "source": [
    "These classic real world contexts are small so we add some big random contexts to our examination"
   ]
  },
  {
   "cell_type": "code",
   "execution_count": 10,
   "metadata": {},
   "outputs": [],
   "source": [
    "import numpy as np\n",
    "from itertools import product\n",
    "\n",
    "np.random.seed(42)\n",
    "n_objects_vars = [10, 15,]\n",
    "n_attributes_vars = [10, 15]\n",
    "densities_vars = [0.1, 0.5, 0.9]\n",
    "frames_random = {}\n",
    "for comb in product(n_objects_vars, n_attributes_vars, densities_vars):\n",
    "    n_objects, n_attributes, density = comb\n",
    "\n",
    "    frame = pd.DataFrame(np.random.binomial(1, density, size=(n_objects,n_attributes)))\n",
    "    frame.columns = [f\"m_{i}\" for i in frame.columns]\n",
    "    frame.index = [f\"g_{i}\" for i in frame.index]\n",
    "    frame = frame.astype(bool)\n",
    "\n",
    "    frame.name = f\"random_{n_objects}_{n_attributes}_{density}\"\n",
    "    frames_random[frame.name] = frame"
   ]
  },
  {
   "cell_type": "code",
   "execution_count": 11,
   "metadata": {},
   "outputs": [],
   "source": [
    "frames = dict(frames_classic, **frames_random)"
   ]
  },
  {
   "cell_type": "markdown",
   "metadata": {},
   "source": [
    "# Run benchmarks"
   ]
  },
  {
   "cell_type": "markdown",
   "metadata": {},
   "source": [
    "## Default lattice visualizations"
   ]
  },
  {
   "cell_type": "markdown",
   "metadata": {},
   "source": [
    "Let us take one classic FCA context 'animal movement' and a bigger one 'bob ross' dataset\n",
    "\n",
    "The description of Animals context:\n",
    "* objects (rows) are Animals\n",
    "* attributes (columns) are Actions\n",
    "* the table shows whether an Animal can perform an Action\n",
    "\n",
    "The description of Bob Ross dataset:\n",
    "* objects (rows) are paintings by Bob Ross\n",
    "* attributes (columns) are specific elements in these paintings\n",
    "* the table shows whether an element is on a painting"
   ]
  },
  {
   "cell_type": "code",
   "execution_count": 12,
   "metadata": {},
   "outputs": [],
   "source": [
    "ctx_names = ['animal_movement',]# 'bob_ross']"
   ]
  },
  {
   "cell_type": "code",
   "execution_count": 13,
   "metadata": {},
   "outputs": [
    {
     "name": "stdout",
     "output_type": "stream",
     "text": [
      "animal_movement\n",
      "(16, 4)\n"
     ]
    },
    {
     "data": {
      "text/html": [
       "<div>\n",
       "<style scoped>\n",
       "    .dataframe tbody tr th:only-of-type {\n",
       "        vertical-align: middle;\n",
       "    }\n",
       "\n",
       "    .dataframe tbody tr th {\n",
       "        vertical-align: top;\n",
       "    }\n",
       "\n",
       "    .dataframe thead th {\n",
       "        text-align: right;\n",
       "    }\n",
       "</style>\n",
       "<table border=\"1\" class=\"dataframe\">\n",
       "  <thead>\n",
       "    <tr style=\"text-align: right;\">\n",
       "      <th></th>\n",
       "      <th>fly</th>\n",
       "      <th>hunt</th>\n",
       "      <th>run</th>\n",
       "      <th>swim</th>\n",
       "    </tr>\n",
       "  </thead>\n",
       "  <tbody>\n",
       "    <tr>\n",
       "      <th>dove</th>\n",
       "      <td>True</td>\n",
       "      <td>False</td>\n",
       "      <td>False</td>\n",
       "      <td>False</td>\n",
       "    </tr>\n",
       "    <tr>\n",
       "      <th>hen</th>\n",
       "      <td>False</td>\n",
       "      <td>False</td>\n",
       "      <td>False</td>\n",
       "      <td>False</td>\n",
       "    </tr>\n",
       "    <tr>\n",
       "      <th>duck</th>\n",
       "      <td>True</td>\n",
       "      <td>False</td>\n",
       "      <td>False</td>\n",
       "      <td>True</td>\n",
       "    </tr>\n",
       "    <tr>\n",
       "      <th>goose</th>\n",
       "      <td>True</td>\n",
       "      <td>False</td>\n",
       "      <td>False</td>\n",
       "      <td>True</td>\n",
       "    </tr>\n",
       "    <tr>\n",
       "      <th>owl</th>\n",
       "      <td>True</td>\n",
       "      <td>True</td>\n",
       "      <td>False</td>\n",
       "      <td>False</td>\n",
       "    </tr>\n",
       "  </tbody>\n",
       "</table>\n",
       "</div>"
      ],
      "text/plain": [
       "         fly   hunt    run   swim\n",
       "dove    True  False  False  False\n",
       "hen    False  False  False  False\n",
       "duck    True  False  False   True\n",
       "goose   True  False  False   True\n",
       "owl     True   True  False  False"
      ]
     },
     "execution_count": 13,
     "metadata": {},
     "output_type": "execute_result"
    }
   ],
   "source": [
    "ctx_name = ctx_names[0]\n",
    "print(ctx_name)\n",
    "df = frames[ctx_name]\n",
    "print(df.shape)\n",
    "df.head()"
   ]
  },
  {
   "cell_type": "raw",
   "metadata": {},
   "source": [
    "ctx_name = ctx_names[1]\n",
    "print(ctx_name)\n",
    "df = frames[ctx_name]\n",
    "print(df.shape)\n",
    "df.head()"
   ]
  },
  {
   "cell_type": "markdown",
   "metadata": {},
   "source": [
    "### Visualization by `concepts`"
   ]
  },
  {
   "cell_type": "markdown",
   "metadata": {},
   "source": [
    "The visualization can be found in the file\n",
    "* _lattice_visualization_concepts_animal_movement.png_\n",
    "* _lattice_visualization_concepts_bob_ross.png_"
   ]
  },
  {
   "cell_type": "code",
   "execution_count": 14,
   "metadata": {},
   "outputs": [],
   "source": [
    "from datetime import datetime"
   ]
  },
  {
   "cell_type": "code",
   "execution_count": 15,
   "metadata": {},
   "outputs": [
    {
     "name": "stdout",
     "output_type": "stream",
     "text": [
      "animal_movement\n",
      "Executed in 0.023466 seconds\n"
     ]
    }
   ],
   "source": [
    "for ctx_name in ctx_names:\n",
    "    df = frames[ctx_name]\n",
    "    print(ctx_name)\n",
    "    t1 = datetime.now()\n",
    "    ctx_concepts = concepts.Context(df.index, df.columns, df.values)\n",
    "    ctx_concepts.lattice.graphviz(f'lattice_visualization_concepts_{ctx_name}', render=True);\n",
    "    t2 = datetime.now()\n",
    "    dt = (t2-t1).total_seconds()\n",
    "    print(f\"Executed in {dt} seconds\")"
   ]
  },
  {
   "cell_type": "markdown",
   "metadata": {},
   "source": [
    "### Visualization by `fcapy`"
   ]
  },
  {
   "cell_type": "markdown",
   "metadata": {},
   "source": [
    "Visualizations can be found in the files\n",
    "* _lattice_visualization_fcapy_networkx_animal_movement.png_ \n",
    "* _lattice_visualization_fcapy_plotly_animal_movement.png_\n",
    "\n",
    "* _lattice_visualization_fcapy_networkx_bob_ross.png_ \n",
    "* _lattice_visualization_fcapy_plotly_bob_ross.png_"
   ]
  },
  {
   "cell_type": "code",
   "execution_count": 16,
   "metadata": {},
   "outputs": [
    {
     "name": "stdout",
     "output_type": "stream",
     "text": [
      "animal_movement\n",
      "Executed in 1.073445 seconds\n"
     ]
    }
   ],
   "source": [
    "import matplotlib.pyplot as plt\n",
    "\n",
    "for ctx_name in ctx_names:\n",
    "    df = frames[ctx_name]\n",
    "    print(ctx_name)\n",
    "    \n",
    "    t1 = datetime.now()\n",
    "    ctx_fcapy = FormalContext.from_pandas(df)\n",
    "    ltc_fcapy = ConceptLattice.from_context(ctx_fcapy)\n",
    "    vsl_fcapy = Visualizer(ltc_fcapy)\n",
    "\n",
    "    plt.title('Networkx lattice')\n",
    "    vsl_fcapy.draw_networkx()\n",
    "    plt.savefig(f'lattice_visualization_fcapy_networkx_{ctx_name}.png')\n",
    "    plt.close()\n",
    "\n",
    "    fig = vsl_fcapy.get_plotly_figure(title='Plotly lattice')\n",
    "    fig.write_image(f'lattice_visualization_fcapy_plotly_{ctx_name}.png')\n",
    "    t2 = datetime.now()\n",
    "    dt = (t2-t1).total_seconds()\n",
    "    print(f'Executed in {dt} seconds')"
   ]
  },
  {
   "cell_type": "markdown",
   "metadata": {},
   "source": [
    "## Time to construct a lattice"
   ]
  },
  {
   "cell_type": "markdown",
   "metadata": {},
   "source": [
    "Functions to run the same lattice construction task with different libraries"
   ]
  },
  {
   "cell_type": "code",
   "execution_count": 17,
   "metadata": {},
   "outputs": [],
   "source": [
    "def test_intent_extent_time(objects, attributes, extent_func, intent_func, samples_per_size=10):\n",
    "    times = []\n",
    "    for arr, fnc in [(objects, intent_func), (attributes, extent_func)]:\n",
    "        subsample_sizes = np.logspace(0, np.log(len(arr))/np.log(10), 10).round(0).astype(int)    \n",
    "        np.random.seed(42)\n",
    "        samples = [sample for size in subsample_sizes for sample in np.random.choice(arr, size=(samples_per_size, size))]\n",
    "        \n",
    "        t1 = datetime.now()\n",
    "        intents = [fnc(sample) for sample in samples]\n",
    "        t2 = datetime.now()\n",
    "        dt = (t2-t1).total_seconds()/len(samples) \n",
    "        times.append(dt)\n",
    "    intent_time, extent_time = times\n",
    "    \n",
    "    return intent_time, extent_time"
   ]
  },
  {
   "cell_type": "code",
   "execution_count": 18,
   "metadata": {},
   "outputs": [],
   "source": [
    "from datetime import datetime\n",
    "def run_concepts(frame):\n",
    "    ctx = concepts.Context(frame.index, frame.columns, frame.values)\n",
    "    \n",
    "    intent_time, extent_time = test_intent_extent_time(frame.index, frame.columns, ctx.extension, ctx.intension)\n",
    "    \n",
    "    t1 = datetime.now()\n",
    "    ltc = ctx.lattice\n",
    "    t2 = datetime.now()\n",
    "    dt = (t2-t1).total_seconds()\n",
    "    \n",
    "    stat = {\n",
    "        'lattice_construction_time (secs)': dt,\n",
    "        'intent_time (secs)': intent_time,\n",
    "        'extent_time (secs)': extent_time,\n",
    "    }\n",
    "    return stat\n",
    "\n",
    "def run_fcapy(frame):\n",
    "    LIB_INSTALLED['numpy'] = False\n",
    "    ctx = FormalContext.from_pandas(frame)\n",
    "    \n",
    "    intent_time, extent_time = test_intent_extent_time(frame.index, frame.columns, ctx.extension, ctx.intention)\n",
    "    \n",
    "    t1 = datetime.now()\n",
    "    ltc = ConceptLattice.from_context(ctx, algo='CbO')\n",
    "    t2 = datetime.now()\n",
    "    dt = (t2-t1).total_seconds()\n",
    "    \n",
    "    stat = {\n",
    "        'lattice_construction_time (secs)': dt,\n",
    "        'intent_time (secs)': intent_time,\n",
    "        'extent_time (secs)': extent_time,\n",
    "    }\n",
    "    return stat\n",
    "\n",
    "def run_fcapsy(frame):\n",
    "    ctx = fcapsy.Context.from_pandas(frame)\n",
    "    \n",
    "    intent_time, extent_time = test_intent_extent_time(frame.index, frame.columns, lambda ar: ctx.down(ctx.Attributes(ar)), lambda ar: ctx.up(ctx.Objects(ar)),)\n",
    "    \n",
    "    t1 = datetime.now()\n",
    "    ltc = fcapsy.Lattice(ctx)\n",
    "    t2 = datetime.now()\n",
    "    dt = (t2-t1).total_seconds()\n",
    "    \n",
    "    stat = {\n",
    "        'lattice_construction_time (secs)': dt,\n",
    "        'intent_time (secs)': intent_time,\n",
    "        'extent_time (secs)': extent_time,\n",
    "    }\n",
    "    return stat"
   ]
  },
  {
   "cell_type": "code",
   "execution_count": 19,
   "metadata": {},
   "outputs": [],
   "source": [
    "def get_context_stat(frame):\n",
    "    ctx_stat = {\n",
    "        'ctx_name': frame.name,\n",
    "        'n_objects': frame.shape[0], 'n_attributes': frame.shape[1],\n",
    "        'n_connections': frame.sum().sum(),\n",
    "        'density': frame.sum().sum()/(frame.shape[0]*frame.shape[1]),\n",
    "    }\n",
    "    return ctx_stat"
   ]
  },
  {
   "cell_type": "code",
   "execution_count": 20,
   "metadata": {},
   "outputs": [],
   "source": [
    "from tqdm.notebook import tqdm\n",
    "import seaborn as sns"
   ]
  },
  {
   "cell_type": "markdown",
   "metadata": {},
   "source": [
    "Run the benchmarks"
   ]
  },
  {
   "cell_type": "code",
   "execution_count": 21,
   "metadata": {},
   "outputs": [
    {
     "data": {
      "application/vnd.jupyter.widget-view+json": {
       "model_id": "48de6650c7d541c1a6904f35e593e62a",
       "version_major": 2,
       "version_minor": 0
      },
      "text/plain": [
       "HBox(children=(FloatProgress(value=0.0, max=19.0), HTML(value='')))"
      ]
     },
     "metadata": {},
     "output_type": "display_data"
    },
    {
     "name": "stdout",
     "output_type": "stream",
     "text": [
      "\n",
      "CPU times: user 2min 9s, sys: 74.1 ms, total: 2min 9s\n",
      "Wall time: 2min 9s\n"
     ]
    }
   ],
   "source": [
    "%%time\n",
    "n_runs = 100\n",
    "\n",
    "stats_total = []\n",
    "for ctx_name, frame in tqdm(frames.items(), total=len(frames), disable=False):\n",
    "    ctx_stat = get_context_stat(frame)\n",
    "    if ctx_stat['ctx_name'] == 'random_15_15_0.9':\n",
    "        # works to slow on this context\n",
    "        continue\n",
    "    if ctx_stat['ctx_name'] == 'bob_ross':\n",
    "        # skip the big dataset for now\n",
    "        continue\n",
    "    \n",
    "    stats_per_ctx = []\n",
    "    for lib_name, run_func in [\n",
    "        ('concepts', run_concepts),\n",
    "        ('fcapy', run_fcapy),\n",
    "        ('fcapsy', run_fcapsy)\n",
    "    ]:\n",
    "        for run_number in tqdm(range(n_runs), leave=False, desc=lib_name, disable=True):\n",
    "            stat = run_func(frame)\n",
    "            stat = dict(stat, library=lib_name, run_number=run_number, **ctx_stat)\n",
    "            stats_per_ctx.append(stat)\n",
    "    stats_total += stats_per_ctx"
   ]
  },
  {
   "cell_type": "markdown",
   "metadata": {},
   "source": [
    "Benchmark results can be found in the file:\n",
    "* _latice_construction_statistics.csv_\n",
    "\n",
    "Contexts statistics (num. of objects, attributes, e.t.c) is in the file:\n",
    "* context_statistics.csv"
   ]
  },
  {
   "cell_type": "code",
   "execution_count": 22,
   "metadata": {},
   "outputs": [
    {
     "data": {
      "text/html": [
       "<div>\n",
       "<style scoped>\n",
       "    .dataframe tbody tr th:only-of-type {\n",
       "        vertical-align: middle;\n",
       "    }\n",
       "\n",
       "    .dataframe tbody tr th {\n",
       "        vertical-align: top;\n",
       "    }\n",
       "\n",
       "    .dataframe thead th {\n",
       "        text-align: right;\n",
       "    }\n",
       "</style>\n",
       "<table border=\"1\" class=\"dataframe\">\n",
       "  <thead>\n",
       "    <tr style=\"text-align: right;\">\n",
       "      <th></th>\n",
       "      <th>lattice_construction_time (secs)</th>\n",
       "      <th>intent_time (secs)</th>\n",
       "      <th>extent_time (secs)</th>\n",
       "      <th>library</th>\n",
       "      <th>run_number</th>\n",
       "      <th>ctx_name</th>\n",
       "      <th>n_objects</th>\n",
       "      <th>n_attributes</th>\n",
       "      <th>n_connections</th>\n",
       "      <th>density</th>\n",
       "      <th>is_random</th>\n",
       "    </tr>\n",
       "  </thead>\n",
       "  <tbody>\n",
       "    <tr>\n",
       "      <th>0</th>\n",
       "      <td>0.000409</td>\n",
       "      <td>0.000011</td>\n",
       "      <td>0.000004</td>\n",
       "      <td>concepts</td>\n",
       "      <td>0</td>\n",
       "      <td>animal_movement</td>\n",
       "      <td>16</td>\n",
       "      <td>4</td>\n",
       "      <td>24</td>\n",
       "      <td>0.375</td>\n",
       "      <td>False</td>\n",
       "    </tr>\n",
       "    <tr>\n",
       "      <th>1</th>\n",
       "      <td>0.000364</td>\n",
       "      <td>0.000004</td>\n",
       "      <td>0.000004</td>\n",
       "      <td>concepts</td>\n",
       "      <td>1</td>\n",
       "      <td>animal_movement</td>\n",
       "      <td>16</td>\n",
       "      <td>4</td>\n",
       "      <td>24</td>\n",
       "      <td>0.375</td>\n",
       "      <td>False</td>\n",
       "    </tr>\n",
       "    <tr>\n",
       "      <th>2</th>\n",
       "      <td>0.000463</td>\n",
       "      <td>0.000004</td>\n",
       "      <td>0.000005</td>\n",
       "      <td>concepts</td>\n",
       "      <td>2</td>\n",
       "      <td>animal_movement</td>\n",
       "      <td>16</td>\n",
       "      <td>4</td>\n",
       "      <td>24</td>\n",
       "      <td>0.375</td>\n",
       "      <td>False</td>\n",
       "    </tr>\n",
       "    <tr>\n",
       "      <th>3</th>\n",
       "      <td>0.000408</td>\n",
       "      <td>0.000004</td>\n",
       "      <td>0.000005</td>\n",
       "      <td>concepts</td>\n",
       "      <td>3</td>\n",
       "      <td>animal_movement</td>\n",
       "      <td>16</td>\n",
       "      <td>4</td>\n",
       "      <td>24</td>\n",
       "      <td>0.375</td>\n",
       "      <td>False</td>\n",
       "    </tr>\n",
       "    <tr>\n",
       "      <th>4</th>\n",
       "      <td>0.000418</td>\n",
       "      <td>0.000005</td>\n",
       "      <td>0.000004</td>\n",
       "      <td>concepts</td>\n",
       "      <td>4</td>\n",
       "      <td>animal_movement</td>\n",
       "      <td>16</td>\n",
       "      <td>4</td>\n",
       "      <td>24</td>\n",
       "      <td>0.375</td>\n",
       "      <td>False</td>\n",
       "    </tr>\n",
       "  </tbody>\n",
       "</table>\n",
       "</div>"
      ],
      "text/plain": [
       "   lattice_construction_time (secs)  intent_time (secs)  extent_time (secs)  \\\n",
       "0                          0.000409            0.000011            0.000004   \n",
       "1                          0.000364            0.000004            0.000004   \n",
       "2                          0.000463            0.000004            0.000005   \n",
       "3                          0.000408            0.000004            0.000005   \n",
       "4                          0.000418            0.000005            0.000004   \n",
       "\n",
       "    library  run_number         ctx_name  n_objects  n_attributes  \\\n",
       "0  concepts           0  animal_movement         16             4   \n",
       "1  concepts           1  animal_movement         16             4   \n",
       "2  concepts           2  animal_movement         16             4   \n",
       "3  concepts           3  animal_movement         16             4   \n",
       "4  concepts           4  animal_movement         16             4   \n",
       "\n",
       "   n_connections  density  is_random  \n",
       "0             24    0.375      False  \n",
       "1             24    0.375      False  \n",
       "2             24    0.375      False  \n",
       "3             24    0.375      False  \n",
       "4             24    0.375      False  "
      ]
     },
     "execution_count": 22,
     "metadata": {},
     "output_type": "execute_result"
    }
   ],
   "source": [
    "stats_df = pd.DataFrame(stats_total)\n",
    "stats_df['is_random'] = [x.startswith('random') for x in stats_df['ctx_name']]\n",
    "stats_df.to_csv('latice_construction_statistics.csv')\n",
    "stats_df.head()"
   ]
  },
  {
   "cell_type": "code",
   "execution_count": 23,
   "metadata": {},
   "outputs": [],
   "source": [
    "context_stat_feats = ['n_objects', 'n_attributes', 'n_connections', 'density']\n",
    "context_stat_df = stats_df[['ctx_name',]+context_stat_feats].drop_duplicates().reset_index(drop=True)\n",
    "context_stat_df.to_csv('context_statistics.csv')"
   ]
  },
  {
   "cell_type": "markdown",
   "metadata": {},
   "source": [
    "We do not draw any plots in this notebook in order for Github to render it.\n",
    "\n",
    "Benchmark plot can be found in the files:\n",
    "* _lattice_construction_time_for_classic_contexts.png_\n",
    "* _lattice_construction_time_for_random_contexts.png_\n",
    "* _lattice_construction_time_all_data.png_"
   ]
  },
  {
   "cell_type": "code",
   "execution_count": 24,
   "metadata": {},
   "outputs": [],
   "source": [
    "plt.rcParams['figure.facecolor'] = (1,1,1,1)  # (1,1,1,0)"
   ]
  },
  {
   "cell_type": "code",
   "execution_count": 25,
   "metadata": {},
   "outputs": [],
   "source": [
    "y_feat = 'lattice_construction_time (secs)'\n",
    "width = 2\n",
    "\n",
    "plt.figure(figsize=(10,7))\n",
    "for idx, x_feat in enumerate(context_stat_feats):\n",
    "    plt.subplot(len(context_stat_feats)//width+1, width, idx+1)\n",
    "    sns.lineplot(x=x_feat, y=y_feat, hue='library', data=stats_df[~stats_df['is_random']])\n",
    "    plt.xlabel(''); plt.ylabel('')\n",
    "    plt.title(x_feat)\n",
    "    plt.xlabel(x_feat)\n",
    "    plt.ylabel('time (secs) (log scale)')\n",
    "    plt.legend()\n",
    "plt.tight_layout()\n",
    "plt.subplots_adjust(top=0.9)\n",
    "plt.suptitle(f\"{y_feat} based on context statistics\\n(for classic fca contexts)\")\n",
    "plt.savefig('lattice_construction_time_for_classic_contexts.png')\n",
    "plt.close()"
   ]
  },
  {
   "cell_type": "code",
   "execution_count": 26,
   "metadata": {},
   "outputs": [],
   "source": [
    "context_stat_feats = ['n_objects', 'n_attributes', 'n_connections', 'density']\n",
    "y_feat = 'lattice_construction_time (secs)'\n",
    "width = 2\n",
    "\n",
    "plt.figure(figsize=(10,10))\n",
    "for idx, x_feat in enumerate(context_stat_feats):\n",
    "    plt.subplot(len(context_stat_feats)//width+1, width, idx+1)\n",
    "    sns.lineplot(x=x_feat, y=y_feat, hue='library', data=stats_df[stats_df['is_random']])\n",
    "    plt.xlabel(''); plt.ylabel('')\n",
    "    plt.title(x_feat)\n",
    "    plt.xlabel(x_feat)\n",
    "    plt.ylabel('time (secs) (log scale)')\n",
    "    plt.legend()\n",
    "plt.tight_layout()\n",
    "plt.subplots_adjust(top=0.9)\n",
    "plt.suptitle(f\"{y_feat} based on context statistics\\n(for random contexts)\")\n",
    "plt.savefig('lattice_construction_time_for_random_contexts.png')\n",
    "plt.close()"
   ]
  },
  {
   "cell_type": "code",
   "execution_count": 27,
   "metadata": {},
   "outputs": [],
   "source": [
    "context_stat_feats = ['n_objects', 'n_attributes', 'n_connections', 'density']\n",
    "y_feat = 'lattice_construction_time (secs)'\n",
    "width = 2\n",
    "\n",
    "plt.figure(figsize=(10,7))\n",
    "for idx, x_feat in enumerate(context_stat_feats):\n",
    "    plt.subplot(len(context_stat_feats)//width+1, width, idx+1)\n",
    "    sns.lineplot(x=x_feat, y=y_feat, hue='library', data=stats_df)\n",
    "    plt.xlabel(''); plt.ylabel('')\n",
    "    plt.title(x_feat)\n",
    "    plt.yscale('log')\n",
    "    plt.xlabel(x_feat)\n",
    "    plt.ylabel('time (secs) (log scale)')\n",
    "    plt.legend()\n",
    "plt.tight_layout()\n",
    "plt.subplots_adjust(top=0.9)\n",
    "plt.suptitle(f\"{y_feat} based on context statistics\\n(for random and classic contexts)\")\n",
    "plt.savefig('lattice_construction_time_all_data.png')\n",
    "plt.close()"
   ]
  },
  {
   "cell_type": "code",
   "execution_count": 28,
   "metadata": {},
   "outputs": [],
   "source": [
    "stats_df['intent+extent_time (secs)'] = stats_df[['intent_time (secs)', 'extent_time (secs)']].sum(1)"
   ]
  },
  {
   "cell_type": "code",
   "execution_count": 29,
   "metadata": {},
   "outputs": [],
   "source": [
    "context_stat_feats = ['n_objects', 'n_attributes', 'n_connections', 'density']\n",
    "y_feat = 'intent+extent_time (secs)'\n",
    "width = 2\n",
    "\n",
    "plt.figure(figsize=(10,7))\n",
    "for idx, x_feat in enumerate(context_stat_feats):\n",
    "    plt.subplot(len(context_stat_feats)//width+1, width, idx+1)\n",
    "    sns.lineplot(x=x_feat, y=y_feat, hue='library', data=stats_df)\n",
    "    plt.xlabel(''); plt.ylabel('')\n",
    "    plt.title(x_feat)\n",
    "    plt.xlabel(x_feat)\n",
    "    plt.ylabel('time (secs)')\n",
    "    plt.legend()\n",
    "plt.tight_layout()\n",
    "plt.subplots_adjust(top=0.9)\n",
    "plt.suptitle(f\"{y_feat} based on context statistics\\n(for random and classic contexts)\")\n",
    "plt.savefig('intent_extent_time_all_data.png')\n",
    "plt.close()"
   ]
  }
 ],
 "metadata": {
  "kernelspec": {
   "display_name": "Python 3",
   "language": "python",
   "name": "python3"
  },
  "language_info": {
   "codemirror_mode": {
    "name": "ipython",
    "version": 3
   },
   "file_extension": ".py",
   "mimetype": "text/x-python",
   "name": "python",
   "nbconvert_exporter": "python",
   "pygments_lexer": "ipython3",
   "version": "3.8.3"
  }
 },
 "nbformat": 4,
 "nbformat_minor": 4
}
