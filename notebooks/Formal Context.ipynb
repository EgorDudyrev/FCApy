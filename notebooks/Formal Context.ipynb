{
 "cells": [
  {
   "cell_type": "raw",
   "metadata": {},
   "source": [
    "!pip install -U fcapy[all]"
   ]
  },
  {
   "cell_type": "markdown",
   "metadata": {},
   "source": [
    "# Formal Context\n",
    "\n",
    "This notebook demonstrates the basic functionality of ``FormalContext`` class.\n",
    "\n",
    "The class allows one to create a Formal context object from FCA theory. Set its objects, attributes and binary relations. Then one can compute intention of subset of objects and extension of subset of attributes.\n",
    "\n",
    "The data can be loaded and save to various file formats. Such that json, cxt, csv"
   ]
  },
  {
   "cell_type": "code",
   "execution_count": 1,
   "metadata": {},
   "outputs": [],
   "source": [
    "from fcapy.context import FormalContext, read_csv"
   ]
  },
  {
   "cell_type": "markdown",
   "metadata": {},
   "source": [
    "## Create a context by given data"
   ]
  },
  {
   "cell_type": "markdown",
   "metadata": {},
   "source": [
    "Formal context may be created by defining its ``object_names``, `attribute_names` and `data` (which is binary relation between objects and attributes"
   ]
  },
  {
   "cell_type": "code",
   "execution_count": 2,
   "metadata": {},
   "outputs": [
    {
     "data": {
      "text/plain": [
       "FormalContext (2 objects, 3 attributes, 3 connections)\n",
       " |0|1|2|\n",
       "0|X|X| |\n",
       "1| |X| |"
      ]
     },
     "execution_count": 2,
     "metadata": {},
     "output_type": "execute_result"
    }
   ],
   "source": [
    "ctx = FormalContext(data=[[True, True, False],\n",
    "                          [False, True, False]])\n",
    "ctx"
   ]
  },
  {
   "cell_type": "markdown",
   "metadata": {},
   "source": [
    "Thus we created a context with 2 objects (default names are \"0\" and \"1\") and 3 attributes (default names are \"0\",\"1\",\"2\")\n",
    "\n",
    "Object \"0\" share attributes \"0\" and \"1\". Object \"1\" share attribute \"1\".\n",
    "\n",
    "In FCA terms intention of the object \"0\" is the set of attributes [\"0\",\"1\"]. Intention of the object \"1\" is the attribute \"1\"."
   ]
  },
  {
   "cell_type": "code",
   "execution_count": 3,
   "metadata": {},
   "outputs": [
    {
     "ename": "AttributeError",
     "evalue": "'FormalContext' object has no attribute '_object_names_i_map'",
     "output_type": "error",
     "traceback": [
      "\u001b[0;31m---------------------------------------------------------------------------\u001b[0m",
      "\u001b[0;31mAttributeError\u001b[0m                            Traceback (most recent call last)",
      "\u001b[0;32m<ipython-input-3-46abc6574709>\u001b[0m in \u001b[0;36m<module>\u001b[0;34m\u001b[0m\n\u001b[1;32m      1\u001b[0m \u001b[0;32mfor\u001b[0m \u001b[0mg\u001b[0m \u001b[0;32min\u001b[0m \u001b[0;34m[\u001b[0m\u001b[0;34m\"0\"\u001b[0m\u001b[0;34m,\u001b[0m\u001b[0;34m\"1\"\u001b[0m\u001b[0;34m]\u001b[0m\u001b[0;34m:\u001b[0m\u001b[0;34m\u001b[0m\u001b[0;34m\u001b[0m\u001b[0m\n\u001b[0;32m----> 2\u001b[0;31m     \u001b[0mprint\u001b[0m\u001b[0;34m(\u001b[0m\u001b[0;34mf\"Object {g}: intention = {ctx.intention(g)}\"\u001b[0m\u001b[0;34m)\u001b[0m\u001b[0;34m\u001b[0m\u001b[0;34m\u001b[0m\u001b[0m\n\u001b[0m",
      "\u001b[0;32m~/anaconda3/lib/python3.8/site-packages/fcapy/context/formal_context.py\u001b[0m in \u001b[0;36mintention\u001b[0;34m(self, objects)\u001b[0m\n\u001b[1;32m    212\u001b[0m         \u001b[0;32mfor\u001b[0m \u001b[0mg\u001b[0m \u001b[0;32min\u001b[0m \u001b[0mobjects\u001b[0m\u001b[0;34m:\u001b[0m\u001b[0;34m\u001b[0m\u001b[0;34m\u001b[0m\u001b[0m\n\u001b[1;32m    213\u001b[0m             \u001b[0;32mtry\u001b[0m\u001b[0;34m:\u001b[0m\u001b[0;34m\u001b[0m\u001b[0;34m\u001b[0m\u001b[0m\n\u001b[0;32m--> 214\u001b[0;31m                 \u001b[0mobj_indices\u001b[0m\u001b[0;34m.\u001b[0m\u001b[0mappend\u001b[0m\u001b[0;34m(\u001b[0m\u001b[0mself\u001b[0m\u001b[0;34m.\u001b[0m\u001b[0m_object_names_i_map\u001b[0m\u001b[0;34m[\u001b[0m\u001b[0mg\u001b[0m\u001b[0;34m]\u001b[0m\u001b[0;34m)\u001b[0m\u001b[0;34m\u001b[0m\u001b[0;34m\u001b[0m\u001b[0m\n\u001b[0m\u001b[1;32m    215\u001b[0m             \u001b[0;32mexcept\u001b[0m \u001b[0mKeyError\u001b[0m \u001b[0;32mas\u001b[0m \u001b[0me\u001b[0m\u001b[0;34m:\u001b[0m\u001b[0;34m\u001b[0m\u001b[0;34m\u001b[0m\u001b[0m\n\u001b[1;32m    216\u001b[0m                 \u001b[0;32mraise\u001b[0m \u001b[0mKeyError\u001b[0m\u001b[0;34m(\u001b[0m\u001b[0;34mf'FormalContext.intention: Context does not have an object \"{g}\"'\u001b[0m\u001b[0;34m)\u001b[0m\u001b[0;34m\u001b[0m\u001b[0;34m\u001b[0m\u001b[0m\n",
      "\u001b[0;31mAttributeError\u001b[0m: 'FormalContext' object has no attribute '_object_names_i_map'"
     ]
    }
   ],
   "source": [
    "for g in [\"0\",\"1\"]:\n",
    "    print(f\"Object {g}: intention = {ctx.intention(g)}\")"
   ]
  },
  {
   "cell_type": "markdown",
   "metadata": {},
   "source": [
    "## Read a context from a file"
   ]
  },
  {
   "cell_type": "markdown",
   "metadata": {},
   "source": [
    "Load the Animal Movement context"
   ]
  },
  {
   "cell_type": "code",
   "execution_count": 7,
   "metadata": {},
   "outputs": [
    {
     "name": "stdout",
     "output_type": "stream",
     "text": [
      "--2021-07-14 21:50:15--  https://raw.githubusercontent.com/EgorDudyrev/FCApy/main/data/animal_movement.csv\n",
      "Resolving raw.githubusercontent.com (raw.githubusercontent.com)... 185.199.109.133, 185.199.110.133, 185.199.108.133, ...\n",
      "Connecting to raw.githubusercontent.com (raw.githubusercontent.com)|185.199.109.133|:443... connected.\n",
      "HTTP request sent, awaiting response... 200 OK\n",
      "Length: 458 [text/plain]\n",
      "Saving to: ‘animal_movement.csv’\n",
      "\n",
      "animal_movement.csv 100%[===================>]     458  --.-KB/s    in 0s      \n",
      "\n",
      "2021-07-14 21:50:16 (16,3 MB/s) - ‘animal_movement.csv’ saved [458/458]\n",
      "\n"
     ]
    },
    {
     "data": {
      "text/plain": [
       "FormalContext (16 objects, 4 attributes, 24 connections)\n",
       "     |fly|hunt|run|swim|\n",
       "dove |  X|    |   |    |\n",
       "hen  |   |    |   |    |\n",
       "duck |  X|    |   |   X|\n",
       "goose|  X|    |   |   X|\n",
       "owl  |  X|   X|   |    |\n",
       "hawk |  X|   X|   |    |\n",
       "eagle|  X|   X|   |    |\n",
       "fox  |   |   X|  X|    |\n",
       "dog  |   |    |  X|    |\n",
       "wolf |   |   X|  X|    |\n",
       "cat  |   |   X|  X|    |\n",
       "tiger|   |   X|  X|    |\n",
       "lion |   |   X|  X|    |\n",
       "horse|   |    |  X|    |\n",
       "zebra|   |    |  X|    |\n",
       "cow  |   |    |   |    |"
      ]
     },
     "execution_count": 7,
     "metadata": {},
     "output_type": "execute_result"
    }
   ],
   "source": [
    "!wget https://raw.githubusercontent.com/EgorDudyrev/FCApy/main/data/animal_movement.csv\n",
    "\n",
    "ctx = read_csv('animal_movement.csv')\n",
    "ctx"
   ]
  },
  {
   "cell_type": "markdown",
   "metadata": {},
   "source": [
    "Animal Movement context consists of 16 objects (\"dove\", \"hen\", \"duck\", etc.) and 4 attributes (\"fly\", \"hunt\", \"run\", \"swim\"). According to this data some animals can fly, hunt, run, swim. "
   ]
  },
  {
   "cell_type": "markdown",
   "metadata": {},
   "source": [
    "With ``extension`` function one can select all the objects which share given ``attributes``.\n",
    "\n",
    "E.g. ['owl', 'hawk', 'eagle'] are the animals who both fly and hunt"
   ]
  },
  {
   "cell_type": "code",
   "execution_count": 8,
   "metadata": {},
   "outputs": [
    {
     "data": {
      "text/plain": [
       "['owl', 'hawk', 'eagle']"
      ]
     },
     "execution_count": 8,
     "metadata": {},
     "output_type": "execute_result"
    }
   ],
   "source": [
    "ctx.extension(['fly', 'hunt'])"
   ]
  },
  {
   "cell_type": "markdown",
   "metadata": {},
   "source": [
    "With ``intention`` function one can select all the attributes which share given ``objects``.\n",
    "\n",
    "E.g. $\\emptyset$ are all the attributes shared by ['owl', 'hawk', 'zebra']. Seems like there are no much common things between these animals."
   ]
  },
  {
   "cell_type": "code",
   "execution_count": 9,
   "metadata": {},
   "outputs": [
    {
     "data": {
      "text/plain": [
       "[]"
      ]
     },
     "execution_count": 9,
     "metadata": {},
     "output_type": "execute_result"
    }
   ],
   "source": [
    "ctx.intention(['owl', 'hawk', 'zebra'])"
   ]
  },
  {
   "cell_type": "markdown",
   "metadata": {},
   "source": [
    "## Save a context to a file"
   ]
  },
  {
   "cell_type": "markdown",
   "metadata": {},
   "source": [
    "Once the work is done one can save the context to a file (json, cxt, csv are now supported)."
   ]
  },
  {
   "cell_type": "code",
   "execution_count": 10,
   "metadata": {},
   "outputs": [
    {
     "name": "stdout",
     "output_type": "stream",
     "text": [
      "[{\"ObjNames\":[\"dove\",\"hen\",\"duck\",\"goose\",\"owl\",\"hawk\",\"eagle\",\"fox\",\"dog\",\"wolf\",\"cat\",\"tiger\",\"lion\",\"horse\",\"zebra\",\"cow\"],\"Params\":{\"AttrNames\":[\"fly\",\"hunt\",\"run\",\"swim\"]}},{\"Count\":16,\"Data\":[{\"Count\":1,\"Inds\":[0]},{\"Count\":0,\"Inds\":[]},{\"Count\":2,\"Inds\":[0,3]},{\"Count\":2,\"Inds\":[0,3]},{\"Count\":2,\"Inds\":[0,1]},{\"Count\":2,\"Inds\":[0,1]},{\"Count\":2,\"Inds\":[0,1]},{\"Count\":2,\"Inds\":[1,2]},{\"Count\":1,\"Inds\":[2]},{\"Count\":2,\"Inds\":[1,2]},{\"Count\":2,\"Inds\":[1,2]},{\"Count\":2,\"Inds\":[1,2]},{\"Count\":2,\"Inds\":[1,2]},{\"Count\":1,\"Inds\":[2]},{\"Count\":1,\"Inds\":[2]},{\"Count\":0,\"Inds\":[]}]}]"
     ]
    }
   ],
   "source": [
    "ctx.write_json('animal_movement.json')\n",
    "!cat animal_movement.json"
   ]
  },
  {
   "cell_type": "markdown",
   "metadata": {},
   "source": [
    "When saving to (and reading from) a csv file one can choose the placeholders to put in the file instead of \"True\" and \"False\" values."
   ]
  },
  {
   "cell_type": "code",
   "execution_count": 11,
   "metadata": {},
   "outputs": [
    {
     "name": "stdout",
     "output_type": "stream",
     "text": [
      ",fly,hunt,run,swim\r\n",
      "dove,1,0,0,0\r\n",
      "hen,0,0,0,0\r\n",
      "duck,1,0,0,1\r\n",
      "goose,1,0,0,1\r\n",
      "owl,1,1,0,0\r\n",
      "hawk,1,1,0,0\r\n",
      "eagle,1,1,0,0\r\n",
      "fox,0,1,1,0\r\n",
      "dog,0,0,1,0\r\n",
      "wolf,0,1,1,0\r\n",
      "cat,0,1,1,0\r\n",
      "tiger,0,1,1,0\r\n",
      "lion,0,1,1,0\r\n",
      "horse,0,0,1,0\r\n",
      "zebra,0,0,1,0\r\n",
      "cow,0,0,0,0\r\n"
     ]
    }
   ],
   "source": [
    "ctx.write_csv('animal_movement_new.csv', sep=',', word_true='1', word_false='0')\n",
    "!cat animal_movement_new.csv"
   ]
  },
  {
   "cell_type": "markdown",
   "metadata": {},
   "source": [
    "## Pandas support"
   ]
  },
  {
   "cell_type": "markdown",
   "metadata": {},
   "source": [
    "One can create a FormalContext object based on pandas.DataFrame. If pandas as installed."
   ]
  },
  {
   "cell_type": "code",
   "execution_count": 12,
   "metadata": {},
   "outputs": [
    {
     "name": "stdout",
     "output_type": "stream",
     "text": [
      "True\n"
     ]
    },
    {
     "data": {
      "text/html": [
       "<div>\n",
       "<style scoped>\n",
       "    .dataframe tbody tr th:only-of-type {\n",
       "        vertical-align: middle;\n",
       "    }\n",
       "\n",
       "    .dataframe tbody tr th {\n",
       "        vertical-align: top;\n",
       "    }\n",
       "\n",
       "    .dataframe thead th {\n",
       "        text-align: right;\n",
       "    }\n",
       "</style>\n",
       "<table border=\"1\" class=\"dataframe\">\n",
       "  <thead>\n",
       "    <tr style=\"text-align: right;\">\n",
       "      <th></th>\n",
       "      <th>fly</th>\n",
       "      <th>hunt</th>\n",
       "      <th>run</th>\n",
       "      <th>swim</th>\n",
       "    </tr>\n",
       "  </thead>\n",
       "  <tbody>\n",
       "    <tr>\n",
       "      <th>dove</th>\n",
       "      <td>True</td>\n",
       "      <td>False</td>\n",
       "      <td>False</td>\n",
       "      <td>False</td>\n",
       "    </tr>\n",
       "    <tr>\n",
       "      <th>hen</th>\n",
       "      <td>False</td>\n",
       "      <td>False</td>\n",
       "      <td>False</td>\n",
       "      <td>False</td>\n",
       "    </tr>\n",
       "    <tr>\n",
       "      <th>duck</th>\n",
       "      <td>True</td>\n",
       "      <td>False</td>\n",
       "      <td>False</td>\n",
       "      <td>True</td>\n",
       "    </tr>\n",
       "    <tr>\n",
       "      <th>goose</th>\n",
       "      <td>True</td>\n",
       "      <td>False</td>\n",
       "      <td>False</td>\n",
       "      <td>True</td>\n",
       "    </tr>\n",
       "    <tr>\n",
       "      <th>owl</th>\n",
       "      <td>True</td>\n",
       "      <td>True</td>\n",
       "      <td>False</td>\n",
       "      <td>False</td>\n",
       "    </tr>\n",
       "    <tr>\n",
       "      <th>hawk</th>\n",
       "      <td>True</td>\n",
       "      <td>True</td>\n",
       "      <td>False</td>\n",
       "      <td>False</td>\n",
       "    </tr>\n",
       "    <tr>\n",
       "      <th>eagle</th>\n",
       "      <td>True</td>\n",
       "      <td>True</td>\n",
       "      <td>False</td>\n",
       "      <td>False</td>\n",
       "    </tr>\n",
       "    <tr>\n",
       "      <th>fox</th>\n",
       "      <td>False</td>\n",
       "      <td>True</td>\n",
       "      <td>True</td>\n",
       "      <td>False</td>\n",
       "    </tr>\n",
       "    <tr>\n",
       "      <th>dog</th>\n",
       "      <td>False</td>\n",
       "      <td>False</td>\n",
       "      <td>True</td>\n",
       "      <td>False</td>\n",
       "    </tr>\n",
       "    <tr>\n",
       "      <th>wolf</th>\n",
       "      <td>False</td>\n",
       "      <td>True</td>\n",
       "      <td>True</td>\n",
       "      <td>False</td>\n",
       "    </tr>\n",
       "    <tr>\n",
       "      <th>cat</th>\n",
       "      <td>False</td>\n",
       "      <td>True</td>\n",
       "      <td>True</td>\n",
       "      <td>False</td>\n",
       "    </tr>\n",
       "    <tr>\n",
       "      <th>tiger</th>\n",
       "      <td>False</td>\n",
       "      <td>True</td>\n",
       "      <td>True</td>\n",
       "      <td>False</td>\n",
       "    </tr>\n",
       "    <tr>\n",
       "      <th>lion</th>\n",
       "      <td>False</td>\n",
       "      <td>True</td>\n",
       "      <td>True</td>\n",
       "      <td>False</td>\n",
       "    </tr>\n",
       "    <tr>\n",
       "      <th>horse</th>\n",
       "      <td>False</td>\n",
       "      <td>False</td>\n",
       "      <td>True</td>\n",
       "      <td>False</td>\n",
       "    </tr>\n",
       "    <tr>\n",
       "      <th>zebra</th>\n",
       "      <td>False</td>\n",
       "      <td>False</td>\n",
       "      <td>True</td>\n",
       "      <td>False</td>\n",
       "    </tr>\n",
       "    <tr>\n",
       "      <th>cow</th>\n",
       "      <td>False</td>\n",
       "      <td>False</td>\n",
       "      <td>False</td>\n",
       "      <td>False</td>\n",
       "    </tr>\n",
       "  </tbody>\n",
       "</table>\n",
       "</div>"
      ],
      "text/plain": [
       "         fly   hunt    run   swim\n",
       "dove    True  False  False  False\n",
       "hen    False  False  False  False\n",
       "duck    True  False  False   True\n",
       "goose   True  False  False   True\n",
       "owl     True   True  False  False\n",
       "hawk    True   True  False  False\n",
       "eagle   True   True  False  False\n",
       "fox    False   True   True  False\n",
       "dog    False  False   True  False\n",
       "wolf   False   True   True  False\n",
       "cat    False   True   True  False\n",
       "tiger  False   True   True  False\n",
       "lion   False   True   True  False\n",
       "horse  False  False   True  False\n",
       "zebra  False  False   True  False\n",
       "cow    False  False  False  False"
      ]
     },
     "execution_count": 12,
     "metadata": {},
     "output_type": "execute_result"
    }
   ],
   "source": [
    "# !pip install pandas\n",
    "from fcapy.context import from_pandas\n",
    "\n",
    "print( ctx == from_pandas(ctx.to_pandas()) )\n",
    "ctx.to_pandas()"
   ]
  },
  {
   "cell_type": "code",
   "execution_count": null,
   "metadata": {},
   "outputs": [],
   "source": [
    "!rm animal_movement*"
   ]
  }
 ],
 "metadata": {
  "kernelspec": {
   "display_name": "Python 3",
   "language": "python",
   "name": "python3"
  },
  "language_info": {
   "codemirror_mode": {
    "name": "ipython",
    "version": 3
   },
   "file_extension": ".py",
   "mimetype": "text/x-python",
   "name": "python",
   "nbconvert_exporter": "python",
   "pygments_lexer": "ipython3",
   "version": "3.8.3"
  }
 },
 "nbformat": 4,
 "nbformat_minor": 4
}
