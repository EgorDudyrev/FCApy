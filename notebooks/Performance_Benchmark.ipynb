{
 "cells": [
  {
   "cell_type": "markdown",
   "metadata": {},
   "source": [
    "# Intro\n",
    "\n",
    "There are a number of python packages to work with FCA. In this notebook we will compare their performances in the basic FCA task: constructing the concept lattice from a formal context.\n",
    "\n",
    "We consider three packages: FCApy, fcapsy and Concepts\n",
    "\n",
    "// More packages can be compared in the future"
   ]
  },
  {
   "cell_type": "markdown",
   "metadata": {},
   "source": [
    "# Install competitors libraries"
   ]
  },
  {
   "cell_type": "markdown",
   "metadata": {},
   "source": [
    "The current `FCApy` library (by Egor Dudyrev, HSE Moscow): https://github.com/EgorDudyrev/FCApy "
   ]
  },
  {
   "cell_type": "raw",
   "metadata": {},
   "source": [
    "!rm -rf FCApy\n",
    "!git clone -q  https://github.com/EgorDudyrev/FCApy.git\n",
    "%pip install -e FCApy/"
   ]
  },
  {
   "cell_type": "code",
   "execution_count": 1,
   "metadata": {},
   "outputs": [],
   "source": [
    "from fcapy import LIB_INSTALLED\n",
    "from fcapy.context import FormalContext, converters\n",
    "from fcapy.lattice import ConceptLattice\n",
    "from fcapy.visualizer import Visualizer"
   ]
  },
  {
   "cell_type": "markdown",
   "metadata": {},
   "source": [
    "`Concepts` package (by Sebastian Bank, University of Leipzig): https://github.com/xflr6/concepts"
   ]
  },
  {
   "cell_type": "raw",
   "metadata": {},
   "source": [
    "%pip -q install concepts"
   ]
  },
  {
   "cell_type": "code",
   "execution_count": 2,
   "metadata": {},
   "outputs": [],
   "source": [
    "import concepts"
   ]
  },
  {
   "cell_type": "markdown",
   "metadata": {},
   "source": [
    "`fcapsy` package (by Tomáš Mikula, Palacký University): https://github.com/mikulatomas/fcapsy"
   ]
  },
  {
   "cell_type": "raw",
   "metadata": {},
   "source": [
    "!rm -rf fcapsy\n",
    "!git clone -q  https://github.com/mikulatomas/fcapsy.git\n",
    "%pip install -e fcapsy/."
   ]
  },
  {
   "cell_type": "code",
   "execution_count": 3,
   "metadata": {},
   "outputs": [],
   "source": [
    "import fcapsy"
   ]
  },
  {
   "cell_type": "markdown",
   "metadata": {},
   "source": [
    "# Load data"
   ]
  },
  {
   "cell_type": "markdown",
   "metadata": {},
   "source": [
    "First we load some classic FCA contexts (datasets)"
   ]
  },
  {
   "cell_type": "code",
   "execution_count": 4,
   "metadata": {},
   "outputs": [],
   "source": [
    "frames_classic = {}\n",
    "contexts_to_test = ['animal_movement', 'digits', 'gewaesser',\n",
    "                    'lattice', 'liveinwater', 'tealady']\n",
    "\n",
    "!rm -rf tmp\n",
    "!mkdir tmp\n",
    "\n",
    "for ctx_name in contexts_to_test:\n",
    "    fname = f'tmp/{ctx_name}.cxt'\n",
    "    !wget -O {fname} -q https://raw.githubusercontent.com/EgorDudyrev/FCApy/main/data/{ctx_name}.cxt\n",
    "    ctx = converters.read_cxt(fname)\n",
    "    df = ctx.to_pandas()\n",
    "    df.name = ctx_name\n",
    "    frames_classic[ctx_name] = df\n",
    "!rm -rf tmp"
   ]
  },
  {
   "cell_type": "markdown",
   "metadata": {},
   "source": [
    "These classic real world contexts are small so we add some big random contexts to our examination\n",
    "\n",
    "// Omit this part for now"
   ]
  },
  {
   "cell_type": "code",
   "execution_count": 5,
   "metadata": {},
   "outputs": [],
   "source": [
    "import numpy as np\n",
    "import pandas as pd\n",
    "from itertools import product\n",
    "\n",
    "np.random.seed(42)\n",
    "n_objects_vars = [10, 15,]\n",
    "n_attributes_vars = [10, 15]\n",
    "densities_vars = [0.1, 0.5, 0.9]\n",
    "frames_random = {}\n",
    "for comb in product(n_objects_vars, n_attributes_vars, densities_vars):\n",
    "    n_objects, n_attributes, density = comb\n",
    "\n",
    "    frame = pd.DataFrame(np.random.binomial(1, density, size=(n_objects,n_attributes)))\n",
    "    frame.columns = [f\"m_{i}\" for i in frame.columns]\n",
    "    frame.index = [f\"g_{i}\" for i in frame.index]\n",
    "    frame = frame.astype(bool)\n",
    "\n",
    "    frame.name = f\"random_{n_objects}_{n_attributes}_{density}\"\n",
    "    frames_random[frame.name] = frame"
   ]
  },
  {
   "cell_type": "code",
   "execution_count": 6,
   "metadata": {},
   "outputs": [],
   "source": [
    "frames = dict(frames_classic, **frames_random)"
   ]
  },
  {
   "cell_type": "markdown",
   "metadata": {},
   "source": [
    "# Run benchmarks"
   ]
  },
  {
   "cell_type": "markdown",
   "metadata": {},
   "source": [
    "## Default lattice visualizations"
   ]
  },
  {
   "cell_type": "code",
   "execution_count": 7,
   "metadata": {},
   "outputs": [
    {
     "data": {
      "text/html": [
       "<div>\n",
       "<style scoped>\n",
       "    .dataframe tbody tr th:only-of-type {\n",
       "        vertical-align: middle;\n",
       "    }\n",
       "\n",
       "    .dataframe tbody tr th {\n",
       "        vertical-align: top;\n",
       "    }\n",
       "\n",
       "    .dataframe thead th {\n",
       "        text-align: right;\n",
       "    }\n",
       "</style>\n",
       "<table border=\"1\" class=\"dataframe\">\n",
       "  <thead>\n",
       "    <tr style=\"text-align: right;\">\n",
       "      <th></th>\n",
       "      <th>fly</th>\n",
       "      <th>hunt</th>\n",
       "      <th>run</th>\n",
       "      <th>swim</th>\n",
       "    </tr>\n",
       "  </thead>\n",
       "  <tbody>\n",
       "    <tr>\n",
       "      <th>dove</th>\n",
       "      <td>True</td>\n",
       "      <td>False</td>\n",
       "      <td>False</td>\n",
       "      <td>False</td>\n",
       "    </tr>\n",
       "    <tr>\n",
       "      <th>hen</th>\n",
       "      <td>False</td>\n",
       "      <td>False</td>\n",
       "      <td>False</td>\n",
       "      <td>False</td>\n",
       "    </tr>\n",
       "    <tr>\n",
       "      <th>duck</th>\n",
       "      <td>True</td>\n",
       "      <td>False</td>\n",
       "      <td>False</td>\n",
       "      <td>True</td>\n",
       "    </tr>\n",
       "    <tr>\n",
       "      <th>goose</th>\n",
       "      <td>True</td>\n",
       "      <td>False</td>\n",
       "      <td>False</td>\n",
       "      <td>True</td>\n",
       "    </tr>\n",
       "    <tr>\n",
       "      <th>owl</th>\n",
       "      <td>True</td>\n",
       "      <td>True</td>\n",
       "      <td>False</td>\n",
       "      <td>False</td>\n",
       "    </tr>\n",
       "    <tr>\n",
       "      <th>hawk</th>\n",
       "      <td>True</td>\n",
       "      <td>True</td>\n",
       "      <td>False</td>\n",
       "      <td>False</td>\n",
       "    </tr>\n",
       "    <tr>\n",
       "      <th>eagle</th>\n",
       "      <td>True</td>\n",
       "      <td>True</td>\n",
       "      <td>False</td>\n",
       "      <td>False</td>\n",
       "    </tr>\n",
       "    <tr>\n",
       "      <th>fox</th>\n",
       "      <td>False</td>\n",
       "      <td>True</td>\n",
       "      <td>True</td>\n",
       "      <td>False</td>\n",
       "    </tr>\n",
       "    <tr>\n",
       "      <th>dog</th>\n",
       "      <td>False</td>\n",
       "      <td>False</td>\n",
       "      <td>True</td>\n",
       "      <td>False</td>\n",
       "    </tr>\n",
       "    <tr>\n",
       "      <th>wolf</th>\n",
       "      <td>False</td>\n",
       "      <td>True</td>\n",
       "      <td>True</td>\n",
       "      <td>False</td>\n",
       "    </tr>\n",
       "    <tr>\n",
       "      <th>cat</th>\n",
       "      <td>False</td>\n",
       "      <td>True</td>\n",
       "      <td>True</td>\n",
       "      <td>False</td>\n",
       "    </tr>\n",
       "    <tr>\n",
       "      <th>tiger</th>\n",
       "      <td>False</td>\n",
       "      <td>True</td>\n",
       "      <td>True</td>\n",
       "      <td>False</td>\n",
       "    </tr>\n",
       "    <tr>\n",
       "      <th>lion</th>\n",
       "      <td>False</td>\n",
       "      <td>True</td>\n",
       "      <td>True</td>\n",
       "      <td>False</td>\n",
       "    </tr>\n",
       "    <tr>\n",
       "      <th>horse</th>\n",
       "      <td>False</td>\n",
       "      <td>False</td>\n",
       "      <td>True</td>\n",
       "      <td>False</td>\n",
       "    </tr>\n",
       "    <tr>\n",
       "      <th>zebra</th>\n",
       "      <td>False</td>\n",
       "      <td>False</td>\n",
       "      <td>True</td>\n",
       "      <td>False</td>\n",
       "    </tr>\n",
       "    <tr>\n",
       "      <th>cow</th>\n",
       "      <td>False</td>\n",
       "      <td>False</td>\n",
       "      <td>False</td>\n",
       "      <td>False</td>\n",
       "    </tr>\n",
       "  </tbody>\n",
       "</table>\n",
       "</div>"
      ],
      "text/plain": [
       "         fly   hunt    run   swim\n",
       "dove    True  False  False  False\n",
       "hen    False  False  False  False\n",
       "duck    True  False  False   True\n",
       "goose   True  False  False   True\n",
       "owl     True   True  False  False\n",
       "hawk    True   True  False  False\n",
       "eagle   True   True  False  False\n",
       "fox    False   True   True  False\n",
       "dog    False  False   True  False\n",
       "wolf   False   True   True  False\n",
       "cat    False   True   True  False\n",
       "tiger  False   True   True  False\n",
       "lion   False   True   True  False\n",
       "horse  False  False   True  False\n",
       "zebra  False  False   True  False\n",
       "cow    False  False  False  False"
      ]
     },
     "execution_count": 7,
     "metadata": {},
     "output_type": "execute_result"
    }
   ],
   "source": [
    "df = frames['animal_movement']\n",
    "df"
   ]
  },
  {
   "cell_type": "markdown",
   "metadata": {},
   "source": [
    "### Visualization by `concepts`"
   ]
  },
  {
   "cell_type": "code",
   "execution_count": 8,
   "metadata": {},
   "outputs": [
    {
     "data": {
      "image/svg+xml": [
       "<?xml version=\"1.0\" encoding=\"UTF-8\" standalone=\"no\"?>\n",
       "<!DOCTYPE svg PUBLIC \"-//W3C//DTD SVG 1.1//EN\"\n",
       " \"http://www.w3.org/Graphics/SVG/1.1/DTD/svg11.dtd\">\n",
       "<!-- Generated by graphviz version 2.43.0 (0)\n",
       " -->\n",
       "<!-- Title: Lattice Pages: 1 -->\n",
       "<svg width=\"235pt\" height=\"299pt\"\n",
       " viewBox=\"0.00 0.00 234.50 299.00\" xmlns=\"http://www.w3.org/2000/svg\" xmlns:xlink=\"http://www.w3.org/1999/xlink\">\n",
       "<g id=\"graph0\" class=\"graph\" transform=\"scale(1 1) rotate(0) translate(4 295)\">\n",
       "<title>Lattice</title>\n",
       "<polygon fill=\"white\" stroke=\"transparent\" points=\"-4,4 -4,-295 230.5,-295 230.5,4 -4,4\"/>\n",
       "<!-- c0 -->\n",
       "<g id=\"node1\" class=\"node\">\n",
       "<title>c0</title>\n",
       "<ellipse fill=\"lightgrey\" stroke=\"black\" cx=\"97.11\" cy=\"-9\" rx=\"9\" ry=\"9\"/>\n",
       "</g>\n",
       "<!-- c1 -->\n",
       "<g id=\"node2\" class=\"node\">\n",
       "<title>c1</title>\n",
       "<ellipse fill=\"lightgrey\" stroke=\"black\" cx=\"25.11\" cy=\"-100\" rx=\"9\" ry=\"9\"/>\n",
       "</g>\n",
       "<!-- c1&#45;&gt;c0 -->\n",
       "<g id=\"edge3\" class=\"edge\">\n",
       "<title>c1&#45;&gt;c0</title>\n",
       "<path fill=\"none\" stroke=\"black\" d=\"M30.29,-92.6C43.45,-76.34 78.07,-33.54 91.59,-16.83\"/>\n",
       "</g>\n",
       "<!-- c1&#45;&gt;c1 -->\n",
       "<g id=\"edge1\" class=\"edge\">\n",
       "<title>c1&#45;&gt;c1</title>\n",
       "<path fill=\"none\" stroke=\"transparent\" d=\"M33.68,-103.22C42.4,-105.11 52.11,-104.04 52.11,-100 52.11,-95.96 42.4,-94.89 33.68,-96.78\"/>\n",
       "<text text-anchor=\"middle\" x=\"31\" y=\"-78.32\" font-family=\"Times,serif\" font-size=\"14.00\">duck goose</text>\n",
       "</g>\n",
       "<!-- c1&#45;&gt;c1 -->\n",
       "<g id=\"edge2\" class=\"edge\">\n",
       "<title>c1&#45;&gt;c1</title>\n",
       "<path fill=\"none\" stroke=\"transparent\" d=\"M33.07,-104.35C48.75,-110.73 70.11,-109.28 70.11,-100 70.11,-90.72 48.75,-89.27 33.07,-95.65\"/>\n",
       "<text text-anchor=\"middle\" x=\"28.16\" y=\"-114.82\" font-family=\"Times,serif\" font-size=\"14.00\">swim</text>\n",
       "</g>\n",
       "<!-- c2 -->\n",
       "<g id=\"node3\" class=\"node\">\n",
       "<title>c2</title>\n",
       "<ellipse fill=\"lightgrey\" stroke=\"black\" cx=\"97.11\" cy=\"-100\" rx=\"9\" ry=\"9\"/>\n",
       "</g>\n",
       "<!-- c2&#45;&gt;c0 -->\n",
       "<g id=\"edge5\" class=\"edge\">\n",
       "<title>c2&#45;&gt;c0</title>\n",
       "<path fill=\"none\" stroke=\"black\" d=\"M97.11,-90.79C97.11,-73.83 97.11,-35.13 97.11,-18.19\"/>\n",
       "</g>\n",
       "<!-- c2&#45;&gt;c2 -->\n",
       "<g id=\"edge4\" class=\"edge\">\n",
       "<title>c2&#45;&gt;c2</title>\n",
       "<path fill=\"none\" stroke=\"transparent\" d=\"M104.3,-105.78C113.34,-110.44 124.11,-108.51 124.11,-100 124.11,-91.49 113.34,-89.56 104.3,-94.22\"/>\n",
       "<text text-anchor=\"middle\" x=\"98.31\" y=\"-76.76\" font-family=\"Times,serif\" font-size=\"14.00\">owl hawk eagle</text>\n",
       "</g>\n",
       "<!-- c3 -->\n",
       "<g id=\"node4\" class=\"node\">\n",
       "<title>c3</title>\n",
       "<ellipse fill=\"lightgrey\" stroke=\"black\" cx=\"151.11\" cy=\"-100\" rx=\"9\" ry=\"9\"/>\n",
       "</g>\n",
       "<!-- c3&#45;&gt;c0 -->\n",
       "<g id=\"edge7\" class=\"edge\">\n",
       "<title>c3&#45;&gt;c0</title>\n",
       "<path fill=\"none\" stroke=\"black\" d=\"M146.87,-92.02C136.83,-75.46 111.65,-33.97 101.48,-17.2\"/>\n",
       "</g>\n",
       "<!-- c3&#45;&gt;c3 -->\n",
       "<g id=\"edge6\" class=\"edge\">\n",
       "<title>c3&#45;&gt;c3</title>\n",
       "<path fill=\"none\" stroke=\"transparent\" d=\"M158.3,-105.78C167.34,-110.44 178.11,-108.51 178.11,-100 178.11,-91.49 167.34,-89.56 158.3,-94.22\"/>\n",
       "<text text-anchor=\"middle\" x=\"152.31\" y=\"-76.76\" font-family=\"Times,serif\" font-size=\"14.00\">fox wolf cat tiger lion</text>\n",
       "</g>\n",
       "<!-- c4 -->\n",
       "<g id=\"node5\" class=\"node\">\n",
       "<title>c4</title>\n",
       "<ellipse fill=\"lightgrey\" stroke=\"black\" cx=\"51.11\" cy=\"-191\" rx=\"9\" ry=\"9\"/>\n",
       "</g>\n",
       "<!-- c4&#45;&gt;c1 -->\n",
       "<g id=\"edge10\" class=\"edge\">\n",
       "<title>c4&#45;&gt;c1</title>\n",
       "<path fill=\"none\" stroke=\"black\" d=\"M48.8,-182.1C43.86,-165.17 32.28,-125.56 27.38,-108.75\"/>\n",
       "</g>\n",
       "<!-- c4&#45;&gt;c2 -->\n",
       "<g id=\"edge11\" class=\"edge\">\n",
       "<title>c4&#45;&gt;c2</title>\n",
       "<path fill=\"none\" stroke=\"black\" d=\"M54.88,-182.72C63.46,-166.11 84.41,-125.58 93.16,-108.64\"/>\n",
       "</g>\n",
       "<!-- c4&#45;&gt;c4 -->\n",
       "<g id=\"edge8\" class=\"edge\">\n",
       "<title>c4&#45;&gt;c4</title>\n",
       "<path fill=\"none\" stroke=\"transparent\" d=\"M59.68,-194.22C68.4,-196.11 78.11,-195.04 78.11,-191 78.11,-186.96 68.4,-185.89 59.68,-187.78\"/>\n",
       "<text text-anchor=\"middle\" x=\"57\" y=\"-169.32\" font-family=\"Times,serif\" font-size=\"14.00\">dove</text>\n",
       "</g>\n",
       "<!-- c4&#45;&gt;c4 -->\n",
       "<g id=\"edge9\" class=\"edge\">\n",
       "<title>c4&#45;&gt;c4</title>\n",
       "<path fill=\"none\" stroke=\"transparent\" d=\"M59.07,-195.35C74.75,-201.73 96.11,-200.28 96.11,-191 96.11,-181.72 74.75,-180.27 59.07,-186.65\"/>\n",
       "<text text-anchor=\"middle\" x=\"54.16\" y=\"-205.82\" font-family=\"Times,serif\" font-size=\"14.00\">fly</text>\n",
       "</g>\n",
       "<!-- c5 -->\n",
       "<g id=\"node6\" class=\"node\">\n",
       "<title>c5</title>\n",
       "<ellipse fill=\"lightgrey\" stroke=\"black\" cx=\"123.11\" cy=\"-191\" rx=\"9\" ry=\"9\"/>\n",
       "</g>\n",
       "<!-- c5&#45;&gt;c2 -->\n",
       "<g id=\"edge13\" class=\"edge\">\n",
       "<title>c5&#45;&gt;c2</title>\n",
       "<path fill=\"none\" stroke=\"black\" d=\"M120.8,-182.1C115.86,-165.17 104.28,-125.56 99.38,-108.75\"/>\n",
       "</g>\n",
       "<!-- c5&#45;&gt;c3 -->\n",
       "<g id=\"edge14\" class=\"edge\">\n",
       "<title>c5&#45;&gt;c3</title>\n",
       "<path fill=\"none\" stroke=\"black\" d=\"M125.6,-182.1C130.92,-165.17 143.39,-125.56 148.67,-108.75\"/>\n",
       "</g>\n",
       "<!-- c5&#45;&gt;c5 -->\n",
       "<g id=\"edge12\" class=\"edge\">\n",
       "<title>c5&#45;&gt;c5</title>\n",
       "<path fill=\"none\" stroke=\"transparent\" d=\"M130.3,-196.78C139.34,-201.44 150.11,-199.51 150.11,-191 150.11,-182.49 139.34,-180.56 130.3,-185.22\"/>\n",
       "<text text-anchor=\"middle\" x=\"124.31\" y=\"-206.84\" font-family=\"Times,serif\" font-size=\"14.00\">hunt</text>\n",
       "</g>\n",
       "<!-- c6 -->\n",
       "<g id=\"node7\" class=\"node\">\n",
       "<title>c6</title>\n",
       "<ellipse fill=\"lightgrey\" stroke=\"black\" cx=\"177.11\" cy=\"-191\" rx=\"9\" ry=\"9\"/>\n",
       "</g>\n",
       "<!-- c6&#45;&gt;c3 -->\n",
       "<g id=\"edge17\" class=\"edge\">\n",
       "<title>c6&#45;&gt;c3</title>\n",
       "<path fill=\"none\" stroke=\"black\" d=\"M174.8,-182.1C169.86,-165.17 158.28,-125.56 153.38,-108.75\"/>\n",
       "</g>\n",
       "<!-- c6&#45;&gt;c6 -->\n",
       "<g id=\"edge15\" class=\"edge\">\n",
       "<title>c6&#45;&gt;c6</title>\n",
       "<path fill=\"none\" stroke=\"transparent\" d=\"M185.68,-194.22C194.4,-196.11 204.11,-195.04 204.11,-191 204.11,-186.96 194.4,-185.89 185.68,-187.78\"/>\n",
       "<text text-anchor=\"middle\" x=\"183\" y=\"-169.32\" font-family=\"Times,serif\" font-size=\"14.00\">dog horse zebra</text>\n",
       "</g>\n",
       "<!-- c6&#45;&gt;c6 -->\n",
       "<g id=\"edge16\" class=\"edge\">\n",
       "<title>c6&#45;&gt;c6</title>\n",
       "<path fill=\"none\" stroke=\"transparent\" d=\"M185.07,-195.35C200.75,-201.73 222.11,-200.28 222.11,-191 222.11,-181.72 200.75,-180.27 185.07,-186.65\"/>\n",
       "<text text-anchor=\"middle\" x=\"180.16\" y=\"-205.82\" font-family=\"Times,serif\" font-size=\"14.00\">run</text>\n",
       "</g>\n",
       "<!-- c7 -->\n",
       "<g id=\"node8\" class=\"node\">\n",
       "<title>c7</title>\n",
       "<ellipse fill=\"lightgrey\" stroke=\"black\" cx=\"123.11\" cy=\"-282\" rx=\"9\" ry=\"9\"/>\n",
       "</g>\n",
       "<!-- c7&#45;&gt;c4 -->\n",
       "<g id=\"edge19\" class=\"edge\">\n",
       "<title>c7&#45;&gt;c4</title>\n",
       "<path fill=\"none\" stroke=\"black\" d=\"M117.93,-274.6C104.78,-258.34 70.16,-215.54 56.63,-198.83\"/>\n",
       "</g>\n",
       "<!-- c7&#45;&gt;c5 -->\n",
       "<g id=\"edge20\" class=\"edge\">\n",
       "<title>c7&#45;&gt;c5</title>\n",
       "<path fill=\"none\" stroke=\"black\" d=\"M123.11,-272.79C123.11,-255.83 123.11,-217.13 123.11,-200.19\"/>\n",
       "</g>\n",
       "<!-- c7&#45;&gt;c6 -->\n",
       "<g id=\"edge21\" class=\"edge\">\n",
       "<title>c7&#45;&gt;c6</title>\n",
       "<path fill=\"none\" stroke=\"black\" d=\"M127.35,-274.02C137.39,-257.46 162.57,-215.97 172.74,-199.2\"/>\n",
       "</g>\n",
       "<!-- c7&#45;&gt;c7 -->\n",
       "<g id=\"edge18\" class=\"edge\">\n",
       "<title>c7&#45;&gt;c7</title>\n",
       "<path fill=\"none\" stroke=\"transparent\" d=\"M130.3,-287.78C139.34,-292.44 150.11,-290.51 150.11,-282 150.11,-273.49 139.34,-271.56 130.3,-276.22\"/>\n",
       "<text text-anchor=\"middle\" x=\"124.31\" y=\"-258.76\" font-family=\"Times,serif\" font-size=\"14.00\">hen cow</text>\n",
       "</g>\n",
       "</g>\n",
       "</svg>\n"
      ],
      "text/plain": [
       "<graphviz.dot.Digraph at 0x7fc276467c10>"
      ]
     },
     "execution_count": 8,
     "metadata": {},
     "output_type": "execute_result"
    }
   ],
   "source": [
    "ctx_concepts = concepts.Context(df.index, df.columns, df.values)\n",
    "ctx_concepts.lattice.graphviz()"
   ]
  },
  {
   "cell_type": "markdown",
   "metadata": {},
   "source": [
    "### Visualization by `fcapy`"
   ]
  },
  {
   "cell_type": "code",
   "execution_count": 9,
   "metadata": {},
   "outputs": [
    {
     "data": {
      "image/png": "[encoded data removed]",
      "text/plain": [
       "<Figure size 432x288 with 1 Axes>"
      ]
     },
     "metadata": {},
     "output_type": "display_data"
    }
   ],
   "source": [
    "import matplotlib.pyplot as plt\n",
    "\n",
    "ctx_fcapy = FormalContext.from_pandas(df)\n",
    "ltc_fcapy = ConceptLattice.from_context(ctx_fcapy)\n",
    "vsl_fcapy = Visualizer(ltc_fcapy)\n",
    "\n",
    "plt.title('Networkx lattice')\n",
    "vsl_fcapy.draw_networkx()\n",
    "#vsl_fcapy.get_plotly_figure(title='Plotly lattice')"
   ]
  },
  {
   "cell_type": "markdown",
   "metadata": {},
   "source": [
    "## Time to construct a lattice"
   ]
  },
  {
   "cell_type": "code",
   "execution_count": 10,
   "metadata": {},
   "outputs": [],
   "source": [
    "from datetime import datetime\n",
    "def run_concepts(frame):\n",
    "    ctx = concepts.Context(frame.index, frame.columns, frame.values)\n",
    "    \n",
    "    t1 = datetime.now()\n",
    "    ltc = ctx.lattice\n",
    "    t2 = datetime.now()\n",
    "    dt = (t2-t1).total_seconds()\n",
    "    \n",
    "    stat = {'lattice_construction_time (secs)': dt}\n",
    "    return stat\n",
    "\n",
    "def run_fcapy(frame):\n",
    "    LIB_INSTALLED['numpy'] = False\n",
    "    ctx = FormalContext.from_pandas(frame)\n",
    "    \n",
    "    t1 = datetime.now()\n",
    "    ltc = ConceptLattice.from_context(ctx, algo='CbO')\n",
    "    t2 = datetime.now()\n",
    "    dt = (t2-t1).total_seconds()\n",
    "    \n",
    "    stat = {'lattice_construction_time (secs)': dt}\n",
    "    return stat\n",
    "\n",
    "def run_fcapsy(frame):\n",
    "    ctx = fcapsy.Context.from_pandas(frame)\n",
    "    \n",
    "    t1 = datetime.now()\n",
    "    ltc = fcapsy.Lattice(ctx)\n",
    "    t2 = datetime.now()\n",
    "    dt = (t2-t1).total_seconds()\n",
    "    \n",
    "    stat = {'lattice_construction_time (secs)': dt}\n",
    "    return stat"
   ]
  },
  {
   "cell_type": "code",
   "execution_count": 11,
   "metadata": {},
   "outputs": [],
   "source": [
    "def get_context_stat(frame):\n",
    "    ctx_stat = {\n",
    "        'ctx_name': frame.name,\n",
    "        'n_objects': frame.shape[0], 'n_attributes': frame.shape[1],\n",
    "        'n_connections': frame.sum().sum(),\n",
    "        'density': frame.sum().sum()/(frame.shape[0]*frame.shape[1]),\n",
    "    }\n",
    "    return ctx_stat"
   ]
  },
  {
   "cell_type": "code",
   "execution_count": 12,
   "metadata": {},
   "outputs": [],
   "source": [
    "from tqdm.notebook import tqdm\n",
    "import seaborn as sns"
   ]
  },
  {
   "cell_type": "code",
   "execution_count": null,
   "metadata": {},
   "outputs": [
    {
     "data": {
      "application/vnd.jupyter.widget-view+json": {
       "model_id": "5efab7ad00be43f58aa2c8621d7d79ec",
       "version_major": 2,
       "version_minor": 0
      },
      "text/plain": [
       "HBox(children=(FloatProgress(value=0.0, max=18.0), HTML(value='')))"
      ]
     },
     "metadata": {},
     "output_type": "display_data"
    },
    {
     "data": {
      "application/vnd.jupyter.widget-view+json": {
       "model_id": "",
       "version_major": 2,
       "version_minor": 0
      },
      "text/plain": [
       "HBox(children=(FloatProgress(value=0.0, description='concepts', style=ProgressStyle(description_width='initial…"
      ]
     },
     "metadata": {},
     "output_type": "display_data"
    },
    {
     "data": {
      "application/vnd.jupyter.widget-view+json": {
       "model_id": "",
       "version_major": 2,
       "version_minor": 0
      },
      "text/plain": [
       "HBox(children=(FloatProgress(value=0.0, description='fcapy', style=ProgressStyle(description_width='initial'))…"
      ]
     },
     "metadata": {},
     "output_type": "display_data"
    },
    {
     "data": {
      "application/vnd.jupyter.widget-view+json": {
       "model_id": "",
       "version_major": 2,
       "version_minor": 0
      },
      "text/plain": [
       "HBox(children=(FloatProgress(value=0.0, description='fcapsy', style=ProgressStyle(description_width='initial')…"
      ]
     },
     "metadata": {},
     "output_type": "display_data"
    },
    {
     "data": {
      "application/vnd.jupyter.widget-view+json": {
       "model_id": "",
       "version_major": 2,
       "version_minor": 0
      },
      "text/plain": [
       "HBox(children=(FloatProgress(value=0.0, description='concepts', style=ProgressStyle(description_width='initial…"
      ]
     },
     "metadata": {},
     "output_type": "display_data"
    },
    {
     "data": {
      "application/vnd.jupyter.widget-view+json": {
       "model_id": "",
       "version_major": 2,
       "version_minor": 0
      },
      "text/plain": [
       "HBox(children=(FloatProgress(value=0.0, description='fcapy', style=ProgressStyle(description_width='initial'))…"
      ]
     },
     "metadata": {},
     "output_type": "display_data"
    },
    {
     "data": {
      "application/vnd.jupyter.widget-view+json": {
       "model_id": "",
       "version_major": 2,
       "version_minor": 0
      },
      "text/plain": [
       "HBox(children=(FloatProgress(value=0.0, description='fcapsy', style=ProgressStyle(description_width='initial')…"
      ]
     },
     "metadata": {},
     "output_type": "display_data"
    },
    {
     "data": {
      "application/vnd.jupyter.widget-view+json": {
       "model_id": "",
       "version_major": 2,
       "version_minor": 0
      },
      "text/plain": [
       "HBox(children=(FloatProgress(value=0.0, description='concepts', style=ProgressStyle(description_width='initial…"
      ]
     },
     "metadata": {},
     "output_type": "display_data"
    },
    {
     "data": {
      "application/vnd.jupyter.widget-view+json": {
       "model_id": "",
       "version_major": 2,
       "version_minor": 0
      },
      "text/plain": [
       "HBox(children=(FloatProgress(value=0.0, description='fcapy', style=ProgressStyle(description_width='initial'))…"
      ]
     },
     "metadata": {},
     "output_type": "display_data"
    },
    {
     "data": {
      "application/vnd.jupyter.widget-view+json": {
       "model_id": "",
       "version_major": 2,
       "version_minor": 0
      },
      "text/plain": [
       "HBox(children=(FloatProgress(value=0.0, description='fcapsy', style=ProgressStyle(description_width='initial')…"
      ]
     },
     "metadata": {},
     "output_type": "display_data"
    },
    {
     "data": {
      "application/vnd.jupyter.widget-view+json": {
       "model_id": "",
       "version_major": 2,
       "version_minor": 0
      },
      "text/plain": [
       "HBox(children=(FloatProgress(value=0.0, description='concepts', style=ProgressStyle(description_width='initial…"
      ]
     },
     "metadata": {},
     "output_type": "display_data"
    },
    {
     "data": {
      "application/vnd.jupyter.widget-view+json": {
       "model_id": "",
       "version_major": 2,
       "version_minor": 0
      },
      "text/plain": [
       "HBox(children=(FloatProgress(value=0.0, description='fcapy', style=ProgressStyle(description_width='initial'))…"
      ]
     },
     "metadata": {},
     "output_type": "display_data"
    },
    {
     "data": {
      "application/vnd.jupyter.widget-view+json": {
       "model_id": "",
       "version_major": 2,
       "version_minor": 0
      },
      "text/plain": [
       "HBox(children=(FloatProgress(value=0.0, description='fcapsy', style=ProgressStyle(description_width='initial')…"
      ]
     },
     "metadata": {},
     "output_type": "display_data"
    },
    {
     "data": {
      "application/vnd.jupyter.widget-view+json": {
       "model_id": "",
       "version_major": 2,
       "version_minor": 0
      },
      "text/plain": [
       "HBox(children=(FloatProgress(value=0.0, description='concepts', style=ProgressStyle(description_width='initial…"
      ]
     },
     "metadata": {},
     "output_type": "display_data"
    },
    {
     "data": {
      "application/vnd.jupyter.widget-view+json": {
       "model_id": "",
       "version_major": 2,
       "version_minor": 0
      },
      "text/plain": [
       "HBox(children=(FloatProgress(value=0.0, description='fcapy', style=ProgressStyle(description_width='initial'))…"
      ]
     },
     "metadata": {},
     "output_type": "display_data"
    },
    {
     "data": {
      "application/vnd.jupyter.widget-view+json": {
       "model_id": "",
       "version_major": 2,
       "version_minor": 0
      },
      "text/plain": [
       "HBox(children=(FloatProgress(value=0.0, description='fcapsy', style=ProgressStyle(description_width='initial')…"
      ]
     },
     "metadata": {},
     "output_type": "display_data"
    },
    {
     "data": {
      "application/vnd.jupyter.widget-view+json": {
       "model_id": "",
       "version_major": 2,
       "version_minor": 0
      },
      "text/plain": [
       "HBox(children=(FloatProgress(value=0.0, description='concepts', style=ProgressStyle(description_width='initial…"
      ]
     },
     "metadata": {},
     "output_type": "display_data"
    },
    {
     "data": {
      "application/vnd.jupyter.widget-view+json": {
       "model_id": "",
       "version_major": 2,
       "version_minor": 0
      },
      "text/plain": [
       "HBox(children=(FloatProgress(value=0.0, description='fcapy', style=ProgressStyle(description_width='initial'))…"
      ]
     },
     "metadata": {},
     "output_type": "display_data"
    },
    {
     "data": {
      "application/vnd.jupyter.widget-view+json": {
       "model_id": "",
       "version_major": 2,
       "version_minor": 0
      },
      "text/plain": [
       "HBox(children=(FloatProgress(value=0.0, description='fcapsy', style=ProgressStyle(description_width='initial')…"
      ]
     },
     "metadata": {},
     "output_type": "display_data"
    },
    {
     "data": {
      "application/vnd.jupyter.widget-view+json": {
       "model_id": "",
       "version_major": 2,
       "version_minor": 0
      },
      "text/plain": [
       "HBox(children=(FloatProgress(value=0.0, description='concepts', style=ProgressStyle(description_width='initial…"
      ]
     },
     "metadata": {},
     "output_type": "display_data"
    },
    {
     "data": {
      "application/vnd.jupyter.widget-view+json": {
       "model_id": "",
       "version_major": 2,
       "version_minor": 0
      },
      "text/plain": [
       "HBox(children=(FloatProgress(value=0.0, description='fcapy', style=ProgressStyle(description_width='initial'))…"
      ]
     },
     "metadata": {},
     "output_type": "display_data"
    },
    {
     "data": {
      "application/vnd.jupyter.widget-view+json": {
       "model_id": "",
       "version_major": 2,
       "version_minor": 0
      },
      "text/plain": [
       "HBox(children=(FloatProgress(value=0.0, description='fcapsy', style=ProgressStyle(description_width='initial')…"
      ]
     },
     "metadata": {},
     "output_type": "display_data"
    },
    {
     "data": {
      "application/vnd.jupyter.widget-view+json": {
       "model_id": "",
       "version_major": 2,
       "version_minor": 0
      },
      "text/plain": [
       "HBox(children=(FloatProgress(value=0.0, description='concepts', style=ProgressStyle(description_width='initial…"
      ]
     },
     "metadata": {},
     "output_type": "display_data"
    },
    {
     "data": {
      "application/vnd.jupyter.widget-view+json": {
       "model_id": "",
       "version_major": 2,
       "version_minor": 0
      },
      "text/plain": [
       "HBox(children=(FloatProgress(value=0.0, description='fcapy', style=ProgressStyle(description_width='initial'))…"
      ]
     },
     "metadata": {},
     "output_type": "display_data"
    },
    {
     "data": {
      "application/vnd.jupyter.widget-view+json": {
       "model_id": "",
       "version_major": 2,
       "version_minor": 0
      },
      "text/plain": [
       "HBox(children=(FloatProgress(value=0.0, description='fcapsy', style=ProgressStyle(description_width='initial')…"
      ]
     },
     "metadata": {},
     "output_type": "display_data"
    },
    {
     "data": {
      "application/vnd.jupyter.widget-view+json": {
       "model_id": "",
       "version_major": 2,
       "version_minor": 0
      },
      "text/plain": [
       "HBox(children=(FloatProgress(value=0.0, description='concepts', style=ProgressStyle(description_width='initial…"
      ]
     },
     "metadata": {},
     "output_type": "display_data"
    },
    {
     "data": {
      "application/vnd.jupyter.widget-view+json": {
       "model_id": "",
       "version_major": 2,
       "version_minor": 0
      },
      "text/plain": [
       "HBox(children=(FloatProgress(value=0.0, description='fcapy', style=ProgressStyle(description_width='initial'))…"
      ]
     },
     "metadata": {},
     "output_type": "display_data"
    },
    {
     "data": {
      "application/vnd.jupyter.widget-view+json": {
       "model_id": "",
       "version_major": 2,
       "version_minor": 0
      },
      "text/plain": [
       "HBox(children=(FloatProgress(value=0.0, description='fcapsy', style=ProgressStyle(description_width='initial')…"
      ]
     },
     "metadata": {},
     "output_type": "display_data"
    },
    {
     "data": {
      "application/vnd.jupyter.widget-view+json": {
       "model_id": "",
       "version_major": 2,
       "version_minor": 0
      },
      "text/plain": [
       "HBox(children=(FloatProgress(value=0.0, description='concepts', style=ProgressStyle(description_width='initial…"
      ]
     },
     "metadata": {},
     "output_type": "display_data"
    },
    {
     "data": {
      "application/vnd.jupyter.widget-view+json": {
       "model_id": "",
       "version_major": 2,
       "version_minor": 0
      },
      "text/plain": [
       "HBox(children=(FloatProgress(value=0.0, description='fcapy', style=ProgressStyle(description_width='initial'))…"
      ]
     },
     "metadata": {},
     "output_type": "display_data"
    },
    {
     "data": {
      "application/vnd.jupyter.widget-view+json": {
       "model_id": "",
       "version_major": 2,
       "version_minor": 0
      },
      "text/plain": [
       "HBox(children=(FloatProgress(value=0.0, description='fcapsy', style=ProgressStyle(description_width='initial')…"
      ]
     },
     "metadata": {},
     "output_type": "display_data"
    },
    {
     "data": {
      "application/vnd.jupyter.widget-view+json": {
       "model_id": "",
       "version_major": 2,
       "version_minor": 0
      },
      "text/plain": [
       "HBox(children=(FloatProgress(value=0.0, description='concepts', style=ProgressStyle(description_width='initial…"
      ]
     },
     "metadata": {},
     "output_type": "display_data"
    },
    {
     "data": {
      "application/vnd.jupyter.widget-view+json": {
       "model_id": "",
       "version_major": 2,
       "version_minor": 0
      },
      "text/plain": [
       "HBox(children=(FloatProgress(value=0.0, description='fcapy', style=ProgressStyle(description_width='initial'))…"
      ]
     },
     "metadata": {},
     "output_type": "display_data"
    },
    {
     "data": {
      "application/vnd.jupyter.widget-view+json": {
       "model_id": "",
       "version_major": 2,
       "version_minor": 0
      },
      "text/plain": [
       "HBox(children=(FloatProgress(value=0.0, description='fcapsy', style=ProgressStyle(description_width='initial')…"
      ]
     },
     "metadata": {},
     "output_type": "display_data"
    },
    {
     "data": {
      "application/vnd.jupyter.widget-view+json": {
       "model_id": "",
       "version_major": 2,
       "version_minor": 0
      },
      "text/plain": [
       "HBox(children=(FloatProgress(value=0.0, description='concepts', style=ProgressStyle(description_width='initial…"
      ]
     },
     "metadata": {},
     "output_type": "display_data"
    },
    {
     "data": {
      "application/vnd.jupyter.widget-view+json": {
       "model_id": "",
       "version_major": 2,
       "version_minor": 0
      },
      "text/plain": [
       "HBox(children=(FloatProgress(value=0.0, description='fcapy', style=ProgressStyle(description_width='initial'))…"
      ]
     },
     "metadata": {},
     "output_type": "display_data"
    },
    {
     "data": {
      "application/vnd.jupyter.widget-view+json": {
       "model_id": "",
       "version_major": 2,
       "version_minor": 0
      },
      "text/plain": [
       "HBox(children=(FloatProgress(value=0.0, description='fcapsy', style=ProgressStyle(description_width='initial')…"
      ]
     },
     "metadata": {},
     "output_type": "display_data"
    },
    {
     "data": {
      "application/vnd.jupyter.widget-view+json": {
       "model_id": "",
       "version_major": 2,
       "version_minor": 0
      },
      "text/plain": [
       "HBox(children=(FloatProgress(value=0.0, description='concepts', style=ProgressStyle(description_width='initial…"
      ]
     },
     "metadata": {},
     "output_type": "display_data"
    },
    {
     "data": {
      "application/vnd.jupyter.widget-view+json": {
       "model_id": "",
       "version_major": 2,
       "version_minor": 0
      },
      "text/plain": [
       "HBox(children=(FloatProgress(value=0.0, description='fcapy', style=ProgressStyle(description_width='initial'))…"
      ]
     },
     "metadata": {},
     "output_type": "display_data"
    },
    {
     "data": {
      "application/vnd.jupyter.widget-view+json": {
       "model_id": "",
       "version_major": 2,
       "version_minor": 0
      },
      "text/plain": [
       "HBox(children=(FloatProgress(value=0.0, description='fcapsy', style=ProgressStyle(description_width='initial')…"
      ]
     },
     "metadata": {},
     "output_type": "display_data"
    },
    {
     "data": {
      "application/vnd.jupyter.widget-view+json": {
       "model_id": "",
       "version_major": 2,
       "version_minor": 0
      },
      "text/plain": [
       "HBox(children=(FloatProgress(value=0.0, description='concepts', style=ProgressStyle(description_width='initial…"
      ]
     },
     "metadata": {},
     "output_type": "display_data"
    },
    {
     "data": {
      "application/vnd.jupyter.widget-view+json": {
       "model_id": "",
       "version_major": 2,
       "version_minor": 0
      },
      "text/plain": [
       "HBox(children=(FloatProgress(value=0.0, description='fcapy', style=ProgressStyle(description_width='initial'))…"
      ]
     },
     "metadata": {},
     "output_type": "display_data"
    },
    {
     "data": {
      "application/vnd.jupyter.widget-view+json": {
       "model_id": "",
       "version_major": 2,
       "version_minor": 0
      },
      "text/plain": [
       "HBox(children=(FloatProgress(value=0.0, description='fcapsy', style=ProgressStyle(description_width='initial')…"
      ]
     },
     "metadata": {},
     "output_type": "display_data"
    },
    {
     "data": {
      "application/vnd.jupyter.widget-view+json": {
       "model_id": "",
       "version_major": 2,
       "version_minor": 0
      },
      "text/plain": [
       "HBox(children=(FloatProgress(value=0.0, description='concepts', style=ProgressStyle(description_width='initial…"
      ]
     },
     "metadata": {},
     "output_type": "display_data"
    },
    {
     "data": {
      "application/vnd.jupyter.widget-view+json": {
       "model_id": "",
       "version_major": 2,
       "version_minor": 0
      },
      "text/plain": [
       "HBox(children=(FloatProgress(value=0.0, description='fcapy', style=ProgressStyle(description_width='initial'))…"
      ]
     },
     "metadata": {},
     "output_type": "display_data"
    },
    {
     "data": {
      "application/vnd.jupyter.widget-view+json": {
       "model_id": "113a49db37d449e4845cde76970b9632",
       "version_major": 2,
       "version_minor": 0
      },
      "text/plain": [
       "HBox(children=(FloatProgress(value=0.0, description='fcapsy', style=ProgressStyle(description_width='initial')…"
      ]
     },
     "metadata": {},
     "output_type": "display_data"
    }
   ],
   "source": [
    "n_runs = 100\n",
    "\n",
    "stats_total = []\n",
    "for ctx_name, frame in tqdm(frames.items(), total=len(frames)):\n",
    "    ctx_stat = get_context_stat(frame)\n",
    "    if ctx_stat['ctx_name'] == 'random_15_15_0.9':\n",
    "        # works to slow on this context\n",
    "        continue\n",
    "    \n",
    "    stats_per_ctx = []\n",
    "    for lib_name, run_func in [\n",
    "        ('concepts', run_concepts),\n",
    "        ('fcapy', run_fcapy),\n",
    "        ('fcapsy', run_fcapsy)\n",
    "    ]:\n",
    "        for run_number in tqdm(range(n_runs), leave=False, desc=lib_name):\n",
    "            stat = run_func(frame)\n",
    "            stat = dict(stat, library=lib_name, run_number=run_number, **ctx_stat)\n",
    "            stats_per_ctx.append(stat)\n",
    "    stats_total += stats_per_ctx"
   ]
  },
  {
   "cell_type": "code",
   "execution_count": null,
   "metadata": {},
   "outputs": [],
   "source": [
    "stats_df = pd.DataFrame(stats_total)\n",
    "stats_df['is_random'] = [x.startswith('random') for x in stats_df['ctx_name']]\n",
    "stats_df.head()"
   ]
  },
  {
   "cell_type": "code",
   "execution_count": null,
   "metadata": {},
   "outputs": [],
   "source": [
    "plt.rcParams['figure.facecolor'] = (1,1,1,1)  # (1,1,1,0)"
   ]
  },
  {
   "cell_type": "code",
   "execution_count": null,
   "metadata": {},
   "outputs": [],
   "source": [
    "context_stat_feats = ['n_objects', 'n_attributes', 'n_connections', 'density']\n",
    "y_feat = 'lattice_construction_time (secs)'\n",
    "width = 2\n",
    "\n",
    "plt.figure(figsize=(10,7))\n",
    "for idx, x_feat in enumerate(context_stat_feats):\n",
    "    plt.subplot(len(context_stat_feats)//width+1, width, idx+1)\n",
    "    sns.lineplot(x=x_feat, y=y_feat, hue='library', data=stats_df[~stats_df['is_random']])\n",
    "    plt.xlabel(''); plt.ylabel('')\n",
    "    plt.title(x_feat)\n",
    "    plt.legend()\n",
    "plt.tight_layout()\n",
    "plt.subplots_adjust(top=0.9)\n",
    "plt.suptitle(f\"{y_feat} based on context statistics\\nreal world data\")\n",
    "plt.show()"
   ]
  },
  {
   "cell_type": "code",
   "execution_count": null,
   "metadata": {},
   "outputs": [],
   "source": [
    "context_stat_feats = ['n_objects', 'n_attributes', 'n_connections', 'density']\n",
    "y_feat = 'lattice_construction_time (secs)'\n",
    "width = 2\n",
    "\n",
    "plt.figure(figsize=(10,7))\n",
    "for idx, x_feat in enumerate(context_stat_feats):\n",
    "    plt.subplot(len(context_stat_feats)//width+1, width, idx+1)\n",
    "    sns.lineplot(x=x_feat, y=y_feat, hue='library', data=stats_df[stats_df['is_random']])\n",
    "    plt.xlabel(''); plt.ylabel('')\n",
    "    plt.title(x_feat)\n",
    "    plt.legend()\n",
    "plt.tight_layout()\n",
    "plt.subplots_adjust(top=0.9)\n",
    "plt.suptitle(f\"{y_feat} based on context statistics\\nrandom contexts\")\n",
    "plt.show()"
   ]
  },
  {
   "cell_type": "code",
   "execution_count": null,
   "metadata": {},
   "outputs": [],
   "source": [
    "context_stat_feats = ['n_objects', 'n_attributes', 'n_connections', 'density']\n",
    "y_feat = 'lattice_construction_time (secs)'\n",
    "width = 2\n",
    "\n",
    "plt.figure(figsize=(10,7))\n",
    "for idx, x_feat in enumerate(context_stat_feats):\n",
    "    plt.subplot(len(context_stat_feats)//width+1, width, idx+1)\n",
    "    sns.lineplot(x=x_feat, y=y_feat, hue='library', data=stats_df)\n",
    "    plt.xlabel(''); plt.ylabel('')\n",
    "    plt.title(x_feat)\n",
    "    plt.yscale('log')\n",
    "    plt.legend()\n",
    "plt.tight_layout()\n",
    "plt.subplots_adjust(top=0.9)\n",
    "plt.suptitle(f\"{y_feat} based on context statistics\\nall the data in log scale\")\n",
    "plt.show()"
   ]
  },
  {
   "cell_type": "code",
   "execution_count": null,
   "metadata": {},
   "outputs": [],
   "source": [
    "context_stat_df = stats_df[['ctx_name',]+context_stat_feats].drop_duplicates().reset_index(drop=True)\n",
    "print('Contexts statistics')\n",
    "context_stat_df"
   ]
  }
 ],
 "metadata": {
  "kernelspec": {
   "display_name": "Python 3",
   "language": "python",
   "name": "python3"
  },
  "language_info": {
   "codemirror_mode": {
    "name": "ipython",
    "version": 3
   },
   "file_extension": ".py",
   "mimetype": "text/x-python",
   "name": "python",
   "nbconvert_exporter": "python",
   "pygments_lexer": "ipython3",
   "version": "3.8.3"
  }
 },
 "nbformat": 4,
 "nbformat_minor": 4
}
